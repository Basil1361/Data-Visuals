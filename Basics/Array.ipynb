{
 "cells": [
  {
   "cell_type": "markdown",
   "id": "f596f842",
   "metadata": {},
   "source": [
    "# NumPy Array Analysis\n",
    "\n",
    "The `array_2d.shape` returns the dimensions, `array_2d.dtype` shows the data type, and `array_2d.size` gives the total number of elements.\n",
    "\n",
    "When we use `np.array([[1,2,3,4,5], [2,4,6,8,10]])`, we create an array with 2 rows and 5 columns.\n",
    "\n",
    "So is \n",
    "2*5 matrix \n",
    "\n",
    "(1,2,3,4,5)\n",
    "(2,4,6,8,10)"
   ]
  },
  {
   "cell_type": "code",
   "execution_count": 10,
   "id": "611912b5",
   "metadata": {},
   "outputs": [
    {
     "name": "stdout",
     "output_type": "stream",
     "text": [
      "42\n",
      "142\n",
      "15\n"
     ]
    }
   ],
   "source": [
    "# 0D dimensioned arrays \n",
    "import numpy as np\n",
    "\n",
    "print(np.array(42))\n",
    "print(np.array(142))\n",
    "print(np.array(15))"
   ]
  },
  {
   "cell_type": "code",
   "execution_count": null,
   "id": "52744154",
   "metadata": {},
   "outputs": [
    {
     "name": "stdout",
     "output_type": "stream",
     "text": [
      "(2, 5)\n",
      "int64\n",
      "10\n"
     ]
    }
   ],
   "source": [
    "# 2D arrays properties\n",
    "import numpy as np\n",
    "\n",
    "array_2d = np.array([[1,2,3,4,5], [2,4,6,8,10]])\n",
    "\n",
    "print(array_2d.shape)\n",
    "print(array_2d.dtype)\n",
    "print(array_2d.size) \n"
   ]
  },
  {
   "cell_type": "code",
   "execution_count": 10,
   "id": "3c37536f",
   "metadata": {},
   "outputs": [
    {
     "name": "stdout",
     "output_type": "stream",
     "text": [
      "16\n"
     ]
    }
   ],
   "source": [
    "import numpy as np\n",
    "arr = np.array([0, 2, 4, 6, 8, 10, 12, 14, 16, 18, 20, 22, 24, 26, 28, 30])\n",
    "print(arr.size)"
   ]
  },
  {
   "cell_type": "code",
   "execution_count": 2,
   "id": "74eab582",
   "metadata": {},
   "outputs": [
    {
     "name": "stdout",
     "output_type": "stream",
     "text": [
      "[0. 0. 0.] [1. 1. 1. 1.]\n"
     ]
    }
   ],
   "source": [
    "import numpy as np \n",
    "# Create array with ones, zeros. \n",
    "\n",
    "arr = np.zeros(3)\n",
    "arr2 = np.ones(4)\n",
    "\n",
    "print(arr,arr2)"
   ]
  },
  {
   "cell_type": "code",
   "execution_count": 15,
   "id": "a83f2523",
   "metadata": {},
   "outputs": [
    {
     "name": "stdout",
     "output_type": "stream",
     "text": [
      "[4.0, 4.5, 5.0, 5.5, 6.0, 6.5, 7.0, 7.5, 8.0, 8.5, 9.0, 9.5]\n",
      "[16, 14, 12, 10, 8, 6, 4, 2, 0, -2, -4]\n"
     ]
    }
   ],
   "source": [
    "import numpy as np \n",
    "# Steps of increment when creating new array list\n",
    "\n",
    "arr = np.arange(start = 4, stop = 10, step = 0.5)\n",
    "arr2 = np.arange(16,-6,-2)\n",
    "print(arr.tolist())\n",
    "print(arr2.tolist())"
   ]
  },
  {
   "cell_type": "code",
   "execution_count": null,
   "id": "b46b8d76",
   "metadata": {},
   "outputs": [
    {
     "data": {
      "text/plain": [
       "[2.0, 2.25, 2.5, 2.75, 3.0]"
      ]
     },
     "execution_count": 21,
     "metadata": {},
     "output_type": "execute_result"
    }
   ],
   "source": [
    "import numpy as np\n",
    "# linespace\n",
    "# arr = np.linspace(start = 2, end = 3, 5 is the number of val in between 2 and 3, where every step is equal\n",
    "# linspace = values between 2, 3, 5 is the steps made\n",
    "# N div\n",
    "\n",
    "arr = np.linspace(2,3,5)\n",
    "arr.tolist()\n"
   ]
  },
  {
   "cell_type": "markdown",
   "id": "fafb2aba",
   "metadata": {},
   "source": [
    "# 3D Matrix\n",
    "\n",
    "`Example: (2,2,3) = (z,x,y)`\n",
    "\n",
    "| Dimension | Name | Description | Our Example |\n",
    "|-----------|------|-------------|-------------|\n",
    "| z | Layers/Depth | Number of \"sheets\" stacked | 2 layers |\n",
    "| x | Rows | Number of horizontal rows per layer | 2 rows |\n",
    "| y | Columns | Number of vertical columns per row | 3 columns |\n",
    "\n",
    "**Layer 0:**\n",
    "```\n",
    "[426,  2, 46]\n",
    "[ 53, 42, 35]\n",
    "```\n",
    "\n",
    "**Layer 1:**\n",
    "```\n",
    "[646,  57, 309]\n",
    "[ 89, 149, 100]\n",
    "```\n",
    "\n",
    "Index rules still apply: 0, 1, 2...\n"
   ]
  },
  {
   "cell_type": "code",
   "execution_count": 4,
   "id": "97bdb954",
   "metadata": {},
   "outputs": [
    {
     "data": {
      "text/plain": [
       "(2, 2, 3)"
      ]
     },
     "execution_count": 4,
     "metadata": {},
     "output_type": "execute_result"
    }
   ],
   "source": [
    "import numpy as np\n",
    "arr = np.array([[[426, 2, 46], \n",
    "  [53, 42, 35]],\n",
    "\n",
    " [[646, 57, 309], \n",
    "  [89, 149, 100]]])\n",
    "\n",
    "arr.shape"
   ]
  },
  {
   "cell_type": "code",
   "execution_count": 8,
   "id": "d12e1dbb",
   "metadata": {},
   "outputs": [
    {
     "name": "stdout",
     "output_type": "stream",
     "text": [
      "Original array: [0 2 3 4 5 6 7 8]\n",
      "New array: [0, 2, 13, 4, 15, 6, 17, 8]\n"
     ]
    }
   ],
   "source": [
    "# Change numbers: \n",
    "import numpy as np\n",
    "arr = np.array([0, 2, 3, 4, 5, 6, 7, 8])\n",
    "\n",
    "# Print original array\n",
    "print(\"Original array:\", arr)\n",
    "\n",
    "# Change value at indexes 2, 4, and 6\n",
    "arr[2] = 13\n",
    "arr[4] = 15\n",
    "arr[6] = 17\n",
    "\n",
    "# Print array with updated values\n",
    "print(\"New array:\", arr.tolist())\n",
    "# .tolist() prevents extra spacing "
   ]
  },
  {
   "cell_type": "markdown",
   "id": "a26c47ba",
   "metadata": {},
   "source": [
    "# Random Number Generation in NumPy\n",
    "\n",
    "NumPy provides several functions to generate random numbers:\n",
    "\n",
    "- **`rand()`**: Generates an array of random numbers from a uniform distribution over `[0, 1]`.  \n",
    "    *Example:* `np.random.rand(3)` → `[0.12, 0.85, 0.44]`\n",
    "\n",
    "- **`randn()`**: Generates an array of random numbers from a standard normal distribution (mean 0, variance 1).  \n",
    "    *Example:* `np.random.randn(3)` → `[0.23, -1.12, 0.77]`\n",
    "\n",
    "- **`randint()`**: Generates random integers from a specified range.  \n",
    "    *Example:* `np.random.randint(1, 10, 3)` → `[3, 7, 1]`\n",
    "\n",
    "- **`choice()`**: Generates a random sample from a given 1-D array.  \n",
    "    *Example:* `np.random.choice([10, 20, 30], 2)` → `[20, 10]`\n",
    "\n",
    "These functions are useful for simulations, initializing arrays, or sampling data."
   ]
  },
  {
   "cell_type": "code",
   "execution_count": 28,
   "id": "d5c1be49",
   "metadata": {},
   "outputs": [
    {
     "name": "stdout",
     "output_type": "stream",
     "text": [
      "1D: [5, 25]\n"
     ]
    }
   ],
   "source": [
    "import  numpy as np\n",
    "\n",
    "arr = np.array([5, 10, 15, 20, 25, 30])\n",
    "\n",
    "randomArr = np.random.choice(arr, size=2)\n",
    "print('1D:', randomArr.tolist())"
   ]
  }
 ],
 "metadata": {
  "kernelspec": {
   "display_name": "Virtual",
   "language": "python",
   "name": "python3"
  },
  "language_info": {
   "codemirror_mode": {
    "name": "ipython",
    "version": 3
   },
   "file_extension": ".py",
   "mimetype": "text/x-python",
   "name": "python",
   "nbconvert_exporter": "python",
   "pygments_lexer": "ipython3",
   "version": "3.10.11"
  }
 },
 "nbformat": 4,
 "nbformat_minor": 5
}
