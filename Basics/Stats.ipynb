{
 "cells": [
  {
   "cell_type": "markdown",
   "id": "ebe564b9",
   "metadata": {},
   "source": [
    "# Things to add:\n",
    "1. Max, Vertical, Overall, Horizontal. \n",
    "2. Maximum and minumum returns a new array\n",
    "3. argmax, argmin returns the index \n",
    "4. ptp, difference between max value and min value (peak to peak)\n",
    "5. Percentile\n",
    "6. Median\n",
    "7. Average\n",
    "8. var,std\n",
    "9. mode, used with from scipy import stats\n",
    "10. row = axis 1, horizontal\n",
    "11. column = axis 0, vertical\n",
    "12. flatten = convert to 1D"
   ]
  },
  {
   "cell_type": "markdown",
   "id": "fe8cc31a",
   "metadata": {},
   "source": [
    "## Understanding the `Max-Min axis` Parameter\n",
    "\n",
    "When using functions like `np.max()` or `np.min()` with the `axis` parameter:\n",
    "\n",
    "- **No axis**: Operates on the **entire array** (all elements)\n",
    "- **`axis=0`**: Operates **vertically** (↓ down the columns) - collapses rows\n",
    "- **`axis=1`**: Operates **horizontally** (→ across the rows) - collapses columns\n",
    "\n",
    "### Visual Guide:\n",
    "```\n",
    "axis= 0\n",
    "            [2,  5,  1,  7]\n",
    "            [3,  0,  6,  9]\n",
    "            [4, 12,  5,  8]\n",
    "             ↓   ↓   ↓   ↓\n",
    "    Result: [4, 12, 6, 9]  (max of each column)\n",
    "\n",
    "axis=1 (→)\n",
    "    [2,  5,  1,  7] → Result: 1 (min of row)\n",
    "    [3,  0,  6,  9] → Result: 0 (min of row)\n",
    "    [4, 12,  5,  8] → Result: 4 (min of row)\n",
    "```\n",
    "\n",
    "**Remember**: The axis you specify is the one that gets **collapsed** or **reduced**."
   ]
  },
  {
   "cell_type": "code",
   "execution_count": 2,
   "id": "d0018842",
   "metadata": {},
   "outputs": [
    {
     "name": "stdout",
     "output_type": "stream",
     "text": [
      "12\n",
      "[4, 12, 6, 9]\n",
      "[1, 0, 4]\n"
     ]
    }
   ],
   "source": [
    "import numpy as np\n",
    "\n",
    "arr = np.array([[2, 5, 1, 7], \n",
    "               [3, 0, 6, 9],\n",
    "               [4, 12, 5, 8]])\n",
    "\n",
    "print(np.max(arr))               \n",
    "print(np.max(arr, axis = 0).tolist())\n",
    "print(np.min(arr, axis = 1).tolist())"
   ]
  },
  {
   "cell_type": "markdown",
   "id": "b7307d11",
   "metadata": {},
   "source": [
    "## Understanding `scipy.stats.mode()` - Finding the Most Frequent Value\n",
    "\n",
    "**Mode** is the value that appears most frequently in a dataset.\n",
    "\n",
    "### How SciPy Calculates Mode:\n",
    "\n",
    "NumPy doesn't have a built-in `mode()` function, so we use **`scipy.stats.mode()`** instead.\n",
    "\n",
    "The function returns:\n",
    "1. **`mode`**: The most frequent value(s)\n",
    "2. **`count`**: How many times that value appears\n",
    "\n",
    "### Key Points:\n",
    "- Works with the **`axis`** parameter (just like `max`, `min`, etc.)\n",
    "- **`axis=None`**: Finds mode across entire flattened array\n",
    "- **`axis=0`**: Finds mode down each column (vertically ↓)\n",
    "- **`axis=1`**: Finds mode across each row (horizontally →)\n",
    "- If multiple values have the same highest frequency, it returns the **smallest** value\n",
    "- **New in SciPy 1.9+**: Returns a `ModeResult` object with `.mode` and `.count` attributes"
   ]
  },
  {
   "cell_type": "code",
   "execution_count": null,
   "id": "208bdb68",
   "metadata": {},
   "outputs": [],
   "source": [
    "from scipy import stats\n",
    "import numpy as np\n",
    "\n",
    "# Example 1: Simple array with clear mode\n",
    "arr1 = np.array([1, 2, 2, 3, 3, 3, 4, 4])\n",
    "result1 = stats.mode(arr1)\n",
    "print(\"Array 1:\", arr1)\n",
    "print(\"Mode:\", result1.mode)\n",
    "print(\"Count:\", result1.count)\n",
    "print()\n",
    "\n",
    "# Example 2: 2D array\n",
    "arr2 = np.array([[1, 2, 2, 3],\n",
    "                 [2, 3, 3, 1],\n",
    "                 [2, 1, 3, 3]])\n",
    "\n",
    "print(\"Array 2:\")\n",
    "print(arr2)\n",
    "print()\n",
    "\n",
    "# Mode across entire array (axis=None)\n",
    "result_all = stats.mode(arr2, axis=None)\n",
    "print(\"Mode (entire array):\", result_all.mode)\n",
    "print(\"Count:\", result_all.count)\n",
    "print()\n",
    "\n",
    "# Mode down each column (axis=0)\n",
    "result_col = stats.mode(arr2, axis=0)\n",
    "print(\"Mode (axis=0, down columns):\", result_col.mode)\n",
    "print(\"Count:\", result_col.count)\n",
    "print()\n",
    "\n",
    "# Mode across each row (axis=1)\n",
    "result_row = stats.mode(arr2, axis=1)\n",
    "print(\"Mode (axis=1, across rows):\", result_row.mode)\n",
    "print(\"Count:\", result_row.count)"
   ]
  },
  {
   "cell_type": "markdown",
   "id": "9c3e30c7",
   "metadata": {},
   "source": [
    "### Visual Breakdown of Mode Calculation:\n",
    "\n",
    "For the array:\n",
    "```\n",
    "        Col 0  Col 1  Col 2  Col 3\n",
    "Row 0:    1      2      2      3\n",
    "Row 1:    2      3      3      1\n",
    "Row 2:    2      1      3      3\n",
    "```\n",
    "\n",
    "**axis=0 (↓ down columns)**:\n",
    "- Column 0: [1, 2, 2] → mode is **2** (appears 2 times)\n",
    "- Column 1: [2, 3, 1] → mode is **1** (all appear once, returns smallest)\n",
    "- Column 2: [2, 3, 3] → mode is **3** (appears 2 times)\n",
    "- Column 3: [3, 1, 3] → mode is **3** (appears 2 times)\n",
    "\n",
    "**axis=1 (→ across rows)**:\n",
    "- Row 0: [1, 2, 2, 3] → mode is **2** (appears 2 times)\n",
    "- Row 1: [2, 3, 3, 1] → mode is **3** (appears 2 times)\n",
    "- Row 2: [2, 1, 3, 3] → mode is **3** (appears 2 times)\n",
    "\n",
    "**Entire array (axis=None)**:\n",
    "- All values: [1, 1, 1, 2, 2, 2, 2, 3, 3, 3, 3, 3]\n",
    "- Mode is **3** (appears 5 times)"
   ]
  },
  {
   "cell_type": "markdown",
   "id": "c369362f",
   "metadata": {},
   "source": [
    "## Mode - Example Code"
   ]
  },
  {
   "cell_type": "code",
   "execution_count": 4,
   "id": "06d731fd",
   "metadata": {},
   "outputs": [
    {
     "name": "stdout",
     "output_type": "stream",
     "text": [
      "ModeResult(mode=array([10, 60, 10], dtype=int64), count=array([2, 2, 1], dtype=int64))\n"
     ]
    }
   ],
   "source": [
    "import numpy as np\n",
    "from scipy import stats\n",
    "\n",
    "myArray = np.array([[10, 20, 20],\n",
    "                    [50, 60, 70 ],\n",
    "                    [10, 60, 10]])\n",
    "\n",
    "print(stats.mode(myArray))"
   ]
  },
  {
   "cell_type": "markdown",
   "id": "12cd92f7",
   "metadata": {},
   "source": [
    "## Important: Default Behavior of `stats.mode()`\n",
    "\n",
    "When **no axis** is specified, `stats.mode()` **flattens the array** (axis=None), not axis=0!"
   ]
  }
 ],
 "metadata": {
  "kernelspec": {
   "display_name": "Python 3",
   "language": "python",
   "name": "python3"
  },
  "language_info": {
   "codemirror_mode": {
    "name": "ipython",
    "version": 3
   },
   "file_extension": ".py",
   "mimetype": "text/x-python",
   "name": "python",
   "nbconvert_exporter": "python",
   "pygments_lexer": "ipython3",
   "version": "3.10.11"
  }
 },
 "nbformat": 4,
 "nbformat_minor": 5
}
