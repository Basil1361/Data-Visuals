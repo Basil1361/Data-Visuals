{
 "cells": [
  {
   "cell_type": "code",
   "execution_count": 35,
   "id": "e483ef9a",
   "metadata": {},
   "outputs": [
    {
     "name": "stdout",
     "output_type": "stream",
     "text": [
      "     Unnamed: 0             Date  Active Users  Favorites Total Visits  \\\n",
      "0             0   22/2/2022 9:28          1557     330071       50.9M+   \n",
      "1             1   22/2/2022 9:28          3208     137809       30.9M+   \n",
      "2             2   22/2/2022 9:28          2091    2556671      725.7M+   \n",
      "3             3   22/2/2022 9:28          6235     711635      461.2M+   \n",
      "4             4   22/2/2022 9:28          7273     247852       77.2M+   \n",
      "..          ...              ...           ...        ...          ...   \n",
      "96           96  22/2/2022 11:00          1698      82997        5.4M+   \n",
      "97           97  22/2/2022 11:00          2834      94943       10.6M+   \n",
      "98           98  22/2/2022 11:00          2609      98548        4.3M+   \n",
      "99           99  22/2/2022 11:00          7411     133820       32.9M+   \n",
      "100         100  22/2/2022 11:00          2700     551891      141.6M+   \n",
      "\n",
      "     Server Size       Genre  \\\n",
      "0              8    Building   \n",
      "1             12  All Genres   \n",
      "2             20   Adventure   \n",
      "3             12    Fighting   \n",
      "4             15         RPG   \n",
      "..           ...         ...   \n",
      "96            20    Fighting   \n",
      "97            30  All Genres   \n",
      "98            35      Horror   \n",
      "99            22  All Genres   \n",
      "100           15  All Genres   \n",
      "\n",
      "                                                 Title               Creator  \\\n",
      "0          [TIER8]FactorySimulatorByGamingGloveStudios  Gaming Glove Studios   \n",
      "1    [NEWBOSS]AnimeClickersSimulatorBySimpleSimulators     Simple Simulators   \n",
      "2          (Cosmiore☄️)LoomianLegacyByLlamaTrainStudio    Llama Train Studio   \n",
      "3    [CHRISTMAS+GODUSOPP+KIRITO]ABAByDogsStudios:South   Dogs Studios: South   \n",
      "4                              DeepwokenByVowsbytheSea       Vows by the Sea   \n",
      "..                                                 ...                   ...   \n",
      "96                [Update30-II]AllusionsBy@Klevinoroto          @Klevinoroto   \n",
      "97                               AloSanctuaryByAloYoga              Alo Yoga   \n",
      "98                            UsAreToysBy@UmmmOkayWhat         @UmmmOkayWhat   \n",
      "99                                 🕯Encanto🦋By@skygriI              @skygriI   \n",
      "100           🤖[CyberCity]GiantSimulatorByMithrilGames         Mithril Games   \n",
      "\n",
      "         gameID       Category  \n",
      "0    6769764667  Most Engaging  \n",
      "1    3102144307  Most Engaging  \n",
      "2     306964494  Most Engaging  \n",
      "3    1458767429  Most Engaging  \n",
      "4    4111023553  Most Engaging  \n",
      "..          ...            ...  \n",
      "96   5895971007  Up-And-Coming  \n",
      "97   8523408215  Up-And-Coming  \n",
      "98   8668673762  Up-And-Coming  \n",
      "99   8482542269  Up-And-Coming  \n",
      "100  2986677229  Up-And-Coming  \n",
      "\n",
      "[101 rows x 11 columns]\n"
     ]
    }
   ],
   "source": [
    "import pandas as pd\n",
    "df = pd.read_csv(\"D:/Data Visuals/Pandas/CSV/roblox_games_data2.csv\", \n",
    "                 sep=';')\n",
    "print(df)\n",
    "\n"
   ]
  },
  {
   "cell_type": "code",
   "execution_count": 12,
   "id": "84c6d4a8",
   "metadata": {},
   "outputs": [
    {
     "name": "stdout",
     "output_type": "stream",
     "text": [
      "         Date    Open    High     Low   Close  Volume Currency\n",
      "0    3/1/2000  122.25  124.00  116.10  116.50    6640      USD\n",
      "1    4/1/2000  116.25  120.50  115.75  116.25    5492      USD\n",
      "2    5/1/2000  115.00  121.00  115.00  118.60    6165      USD\n",
      "3    6/1/2000  119.00  121.40  116.50  116.85    5094      USD\n",
      "4    7/1/2000  117.25  117.75  113.80  114.15    6855      USD\n",
      "..        ...     ...     ...     ...     ...     ...      ...\n",
      "95  18/5/2000   91.00   93.00   91.00   91.50     211      USD\n",
      "96  19/5/2000   95.30   98.75   94.80   97.95    8338      USD\n",
      "97  22/5/2000   97.50  104.70   97.50  103.30   14769      USD\n",
      "98  23/5/2000  103.00  104.25  101.30  103.70    7216      USD\n",
      "99  24/5/2000  103.25  103.50  100.75  101.85    4667      USD\n",
      "\n",
      "[100 rows x 7 columns]\n"
     ]
    }
   ],
   "source": [
    "import pandas as pd\n",
    "df = pd.read_csv(\"coffee.csv\", sep = \"|\")\n",
    "print(df)"
   ]
  },
  {
   "cell_type": "code",
   "execution_count": 56,
   "id": "f398f689",
   "metadata": {},
   "outputs": [
    {
     "name": "stdout",
     "output_type": "stream",
     "text": [
      "                           Name        Year        Rating       Votes\n",
      "NaN                  movie_name  movie_year  movie_rating  user_votes\n",
      "0.0    The Shawshank Redemption        1994           9.3        2.8M\n",
      "1.0               The Godfather        1972           9.2          2M\n",
      "2.0             The Dark Knight        2008           9.0        2.8M\n",
      "3.0       The Godfather Part II        1974           9.0        1.3M\n",
      "...                         ...         ...           ...         ...\n",
      "245.0                12 Monkeys        1995           8.0        638K\n",
      "246.0                  Papillon        1973           8.0        136K\n",
      "247.0             Blood Diamond        2006           8.0        575K\n",
      "248.0         Blade Runner 2049        2017           8.0        631K\n",
      "249.0                       Her        2013           8.0        651K\n",
      "\n",
      "[251 rows x 4 columns]\n"
     ]
    }
   ],
   "source": [
    "import pandas as pd\n",
    "df = pd.read_csv(\"D:/Data Visuals/Pandas/CSV/coviddeathbycountry.csv\", header=None)\n",
    "cn = ['Name', 'Year', 'Rating','Votes']\n",
    "file = pd.read_csv(\"D:/Data Visuals/Pandas/CSV/top_english_movies.csv\", sep = \",\", names = cn)\n",
    "df = pd.DataFrame(file)\n",
    "print(df)"
   ]
  },
  {
   "cell_type": "code",
   "execution_count": null,
   "id": "a652d698",
   "metadata": {},
   "outputs": [],
   "source": [
    "import pandas as pd\n",
    "df =pd.read_csv(\"D:/Data Visuals/Pandas/CSV/top_trending_books.csv\", index_col=['Rank']) # [\"Rank\", \"Whatever\"]\n",
    "print(df)"
   ]
  },
  {
   "cell_type": "code",
   "execution_count": 1,
   "id": "2d8100ee",
   "metadata": {},
   "outputs": [
    {
     "name": "stdout",
     "output_type": "stream",
     "text": [
      "   book price  rating            author\n",
      "0       18.42     4.1    Rebecca Yarros\n",
      "1       20.93     4.5    Britney Spears\n",
      "2       31.50     4.5  Barbra Streisand\n",
      "3       23.99     4.4     Matthew Perry\n",
      "4        5.65     4.8      Adam Wallace\n",
      "5       16.99     4.8    Rebecca Yarros\n",
      "6       27.43     4.3           Unknown\n",
      "7        8.55     4.8       Jeff Kinney\n",
      "8        9.86     4.4       David Grann\n",
      "9       11.98     4.5     Anthony Doerr\n"
     ]
    }
   ],
   "source": [
    "# usecols, show only interested columns \n",
    "# nrows, show only interested rows\n",
    "import pandas as pd\n",
    "df =pd.read_csv(\"D:/Data Visuals/Pandas/CSV/top_trending_books.csv\", nrows = 10, usecols=[2,3,4]) # [\"Rank\", \"Whatever\"]\n",
    "print(df)"
   ]
  },
  {
   "cell_type": "markdown",
   "id": "4a309f1e",
   "metadata": {},
   "source": [
    "## Things to note down:\n",
    "\n",
    "1. head()\n",
    "2. info() \n",
    "3. describe()\n",
    "4. shape()\n",
    "5. pd.columns <-\n",
    "6. sort_values <- [column, ascending = True / False].head()\n",
    "7. value_counts() <- specific the column, and count \n",
    "8. isnull(), sum() function \n"
   ]
  },
  {
   "cell_type": "markdown",
   "id": "493a30a5",
   "metadata": {},
   "source": [
    "## Part 2: \n",
    "1. dropna()\n",
    "2. fillna('param') \n",
    "3. Drop Duplicates (keep, inplace, ignore_index) parameter\n",
    "4. astype() <- convert string to int\n",
    "5. .dtype use case\n",
    "6. replace \n",
    "7. to_csv file"
   ]
  }
 ],
 "metadata": {
  "kernelspec": {
   "display_name": "Python 3",
   "language": "python",
   "name": "python3"
  },
  "language_info": {
   "codemirror_mode": {
    "name": "ipython",
    "version": 3
   },
   "file_extension": ".py",
   "mimetype": "text/x-python",
   "name": "python",
   "nbconvert_exporter": "python",
   "pygments_lexer": "ipython3",
   "version": "3.10.11"
  }
 },
 "nbformat": 4,
 "nbformat_minor": 5
}
