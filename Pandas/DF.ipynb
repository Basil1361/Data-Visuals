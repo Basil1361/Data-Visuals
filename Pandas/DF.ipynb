{
 "cells": [
  {
   "cell_type": "markdown",
   "id": "8f30094f",
   "metadata": {},
   "source": [
    "## Start with a simple DataFrame\n",
    "1. DataFrame, columns and rows\n",
    "2. Implement with Dictionary\n",
    "3. Combine arrays\n",
    "4. Using numpy to create DF\n",
    "5. merge(arr?, arr?, on?, how?), concat(arr?,arr?, axis ? or ignore_index = true)\n",
    "6. join, (useful when same index / label)"
   ]
  },
  {
   "cell_type": "code",
   "execution_count": null,
   "id": "c439550a",
   "metadata": {},
   "outputs": [
    {
     "name": "stdout",
     "output_type": "stream",
     "text": [
      "        0\n",
      "0     Abu\n",
      "1     Bob\n",
      "2  Celine\n"
     ]
    }
   ],
   "source": [
    "# i) Import a DataFrame\n",
    "import pandas as pd\n",
    "\n",
    "list_name = ['Abu','Bob','Celine']\n",
    "df = pd.DataFrame(list_name)\n",
    "\n",
    "print(df)"
   ]
  },
  {
   "cell_type": "code",
   "execution_count": 8,
   "id": "26385795",
   "metadata": {},
   "outputs": [
    {
     "name": "stdout",
     "output_type": "stream",
     "text": [
      "     Name  Age    School\n",
      "I    John   18  Chow Lit\n",
      "II  Peach   16   Charter\n"
     ]
    }
   ],
   "source": [
    "# 1) Columns and rows\n",
    "# Basic \n",
    "import pandas as pd\n",
    "info_1= [\"John\",18,\"Chow Lit\"]\n",
    "info_2 =[\"Peach\",16,\"Charter\"]\n",
    "df = pd.DataFrame([info_1, info_2], index =['I', 'II'], columns = [\"Name\",\"Age\",\"School\"]) # index is rows\n",
    "print(df)\n"
   ]
  },
  {
   "cell_type": "code",
   "execution_count": null,
   "id": "cd7fdf3e",
   "metadata": {},
   "outputs": [
    {
     "name": "stdout",
     "output_type": "stream",
     "text": [
      "       States     Capitals  Income (MYR)  Population (M)\n",
      "I       Johor  Johor Bahru          6879            4.10\n",
      "II   Kelantan   Kota Bharu          3614            1.86\n",
      "III    Pahang      Kuantan          4753            1.64\n",
      "IV    Sarawak      Kuching          4978            2.51\n",
      "V       Sabah  K. Kinabalu          4577            3.59\n"
     ]
    }
   ],
   "source": [
    "# 2) Dictionary\n",
    "# Dictionary of lists\n",
    "import pandas as pd\n",
    "# Syntax = {key : [stuff,stuff2]}\n",
    "# Syntax = {key2 :[stuff3,stuff4]}\n",
    "\n",
    "My_states = {'States': ['Johor', 'Kelantan', 'Pahang', 'Sarawak', 'Sabah'], \n",
    "             'Capitals': ['Johor Bahru', 'Kota Bharu', 'Kuantan', 'Kuching', 'K. Kinabalu'],\n",
    "             'Income (MYR)': [6879, 3614, 4753, 4978,4577],\n",
    "             'Population (M)': [4.1, 1.86, 1.64, 2.51, 3.59]}\n",
    "             \n",
    "df = pd.DataFrame(My_states, index = [\"I\",\"II\",\"III\",\"IV\",\"V\"])\n",
    "print(df)"
   ]
  },
  {
   "cell_type": "code",
   "execution_count": null,
   "id": "d5659c92",
   "metadata": {},
   "outputs": [
    {
     "name": "stdout",
     "output_type": "stream",
     "text": [
      "     Brand  Sales  Revenue\n",
      "0  Samsung  321.3    211.2\n",
      "1    Nokia  119.4     34.6\n"
     ]
    }
   ],
   "source": [
    "# 2) Dictionaries v2\n",
    "# Syntax = [{x: stuff}, {y: stuff}]\n",
    "# Syntax = [{x: stuff2}, {y: stuff2}]\n",
    "import pandas as pd\n",
    "# List of dictionaries\n",
    "phone_data = [{\"Brand\" : 'Samsung', \"Sales\" : 321.3, \"Revenue\" : 211.2},\n",
    "              {\"Brand\" : 'Nokia', \"Sales\" : 119.4, \"Revenue\" : 34.6}]\n",
    "\n",
    "df = pd.DataFrame(phone_data)\n",
    "print(df)\n"
   ]
  },
  {
   "cell_type": "code",
   "execution_count": null,
   "id": "2bb14d7d",
   "metadata": {},
   "outputs": [
    {
     "name": "stdout",
     "output_type": "stream",
     "text": [
      "     Name Age    Country\n",
      "I   Aiman  17   Malaysia\n",
      "II  Siran  29  Indonesia\n"
     ]
    }
   ],
   "source": [
    "# Dict, and zip use case\n",
    "# Instead of assigning it, easier to just use this. \n",
    "import numpy as np\n",
    "import pandas as pd \n",
    "\n",
    "keys = np.array([\"Name\", \"Age\", \"Country\"])\n",
    "listA = np.array([\"Aiman\", \"17\", \"Malaysia\"])\n",
    "listB = np.array([\"Siran\", \"29\", \"Indonesia\"])\n",
    "data = [dict(zip(keys, listA)), dict(zip(keys, listB))]\n",
    "\n",
    "\n",
    "print(pd.DataFrame(data, index = [\"I\", \"II\"]))"
   ]
  },
  {
   "cell_type": "code",
   "execution_count": null,
   "id": "f9bdd979",
   "metadata": {},
   "outputs": [
    {
     "name": "stdout",
     "output_type": "stream",
     "text": [
      "       Location  Cases  Deaths\n",
      "0      Selangor   1.39      10\n",
      "1         Johor   0.39       4\n",
      "2         Sabah   0.38       3\n",
      "3  Kuala Lumpur   0.37       2\n",
      "4       Sarawak   0.31       1\n"
     ]
    }
   ],
   "source": [
    "# Dict, and zip use case v2\n",
    "\n",
    "import numpy as np\n",
    "import pandas as pd\n",
    "\n",
    "location = np.array(['Selangor', 'Johor', 'Sabah', 'Kuala Lumpur', 'Sarawak'])\n",
    "cases = np.array([1.39, 0.39, 0.38, 0.37, 0.31])\n",
    "deaths = np.array([10, 4, 3, 2, 1])\n",
    "\n",
    "data_zip = {'Location': location, 'Cases': cases, 'Deaths': deaths}\n",
    "df = pd.DataFrame(data_zip)\n",
    "\n",
    "print(df)"
   ]
  },
  {
   "cell_type": "code",
   "execution_count": 15,
   "id": "e0012d12",
   "metadata": {},
   "outputs": [
    {
     "name": "stdout",
     "output_type": "stream",
     "text": [
      "   Month  Date  Year\n",
      "0    Jan    11  2022\n",
      "1    May    12  2024\n",
      "2    Nov    15  2025\n",
      "3    Feb    14  2012\n",
      "4  March    17  2018\n",
      "5    Dec    19  2015\n"
     ]
    }
   ],
   "source": [
    "# Concat (combining two cells into one) \n",
    "# Vertical wise\n",
    "import numpy as np\n",
    "import pandas as pd\n",
    "\n",
    "df_month = pd.DataFrame({'Month' : ['Jan', 'May', \"Nov\"], \n",
    "                        'Date' : [11,12,15], \n",
    "                        'Year' : [2022,2024,2025]})\n",
    "\n",
    "df_month2 = pd.DataFrame({'Month' : ['Feb', 'March', \"Dec\"], \n",
    "                        'Date' : [14,17,19], \n",
    "                        'Year' : [2012,2018,2015]})\n",
    "\n",
    "# combine = pd.concatenate([], ignore_index = )\n",
    "result = pd.concat([df_month, df_month2], ignore_index=True)\n",
    "\n",
    "# Print the result\n",
    "print(result)"
   ]
  },
  {
   "cell_type": "code",
   "execution_count": null,
   "id": "e2767e00",
   "metadata": {},
   "outputs": [
    {
     "name": "stdout",
     "output_type": "stream",
     "text": [
      "      Name  Age       Location\n",
      "0    Alice   25       New York\n",
      "1      Bob   30  San Francisco\n",
      "2  Charlie   22    Los Angeles\n"
     ]
    }
   ],
   "source": [
    "# Horizontal wise\n",
    "import pandas as pd\n",
    "df1 = pd.DataFrame({'Name': ['Alice', 'Bob', 'Charlie'],\n",
    "                    'Age': [25, 30, 22]})\n",
    "df2 = pd.DataFrame({'Location': ['New York', 'San Francisco', 'Los Angeles']})\n",
    "\n",
    "result = pd.concat([df1, df2], axis = 1)\n",
    "print(result)"
   ]
  },
  {
   "cell_type": "markdown",
   "id": "0937c001",
   "metadata": {},
   "source": [
    "## Understanding `pd.merge()` - Combining DataFrames by Common Columns\n",
    "\n",
    "**Merge** combines two DataFrames based on a **common column** (like a key).\n",
    "\n",
    "### Syntax:\n",
    "```python\n",
    "pd.merge(left_df, right_df, on='column_name', how='join_type')\n",
    "```\n",
    "\n",
    "### Join Types:\n",
    "\n",
    "1. **`inner`** (default): Keep only rows where the key exists in **BOTH** DataFrames\n",
    "2. **`outer`**: Keep **ALL** rows from both DataFrames (fills missing with NaN)\n",
    "3. **`left`**: Keep **ALL** rows from left DataFrame + matching rows from right\n",
    "4. **`right`**: Keep **ALL** rows from right DataFrame + matching rows from left\n",
    "\n",
    "### Visual Guide:\n",
    "```\n",
    "Left DF:          Right DF:\n",
    "  Key | Value       Key | Score\n",
    "  ----+------       ----+------\n",
    "   A  |  10          A  |  100\n",
    "   B  |  20          C  |  200\n",
    "   D  |  30          D  |  300\n",
    "\n",
    "INNER:  A, D only (common keys)\n",
    "OUTER:  A, B, C, D (all keys)\n",
    "LEFT:   A, B, D (all from left)\n",
    "RIGHT:  A, C, D (all from right)\n",
    "```"
   ]
  },
  {
   "cell_type": "code",
   "execution_count": 20,
   "id": "f9ed1a3b",
   "metadata": {},
   "outputs": [
    {
     "name": "stdout",
     "output_type": "stream",
     "text": [
      "Students DataFrame:\n",
      "   StudentID     Name  Age\n",
      "0        101    Alice   20\n",
      "1        102      Bob   21\n",
      "2        103  Charlie   19\n",
      "3        104    David   22\n",
      "\n",
      "Grades DataFrame:\n",
      "   StudentID Grade  Subject\n",
      "0        101     A     Math\n",
      "1        102     B  Science\n",
      "2        105     A     Math\n",
      "3        106     C  English\n",
      "\n",
      "============================================================\n",
      "INNER JOIN (only StudentID 101, 102):\n",
      "   StudentID   Name  Age Grade  Subject\n",
      "0        101  Alice   20     A     Math\n",
      "1        102    Bob   21     B  Science\n",
      "\n",
      "============================================================\n",
      "OUTER JOIN (all StudentIDs, NaN for missing):\n",
      "   StudentID     Name   Age Grade  Subject\n",
      "0        101    Alice  20.0     A     Math\n",
      "1        102      Bob  21.0     B  Science\n",
      "2        103  Charlie  19.0   NaN      NaN\n",
      "3        104    David  22.0   NaN      NaN\n",
      "4        105      NaN   NaN     A     Math\n",
      "5        106      NaN   NaN     C  English\n",
      "\n",
      "============================================================\n",
      "LEFT JOIN (all students, NaN for students without grades):\n",
      "   StudentID     Name  Age Grade  Subject\n",
      "0        101    Alice   20     A     Math\n",
      "1        102      Bob   21     B  Science\n",
      "2        103  Charlie   19   NaN      NaN\n",
      "3        104    David   22   NaN      NaN\n",
      "\n",
      "============================================================\n",
      "RIGHT JOIN (all grades, NaN for grades without student info):\n",
      "   StudentID   Name   Age Grade  Subject\n",
      "0        101  Alice  20.0     A     Math\n",
      "1        102    Bob  21.0     B  Science\n",
      "2        105    NaN   NaN     A     Math\n",
      "3        106    NaN   NaN     C  English\n",
      "\n",
      "============================================================\n"
     ]
    }
   ],
   "source": [
    "import pandas as pd\n",
    "\n",
    "# Create sample DataFrames\n",
    "df_students = pd.DataFrame({\n",
    "    'StudentID': [101, 102, 103, 104],\n",
    "    'Name': ['Alice', 'Bob', 'Charlie', 'David'],\n",
    "    'Age': [20, 21, 19, 22]\n",
    "})\n",
    "\n",
    "df_grades = pd.DataFrame({\n",
    "    'StudentID': [101, 102, 105, 106],\n",
    "    'Grade': ['A', 'B', 'A', 'C'],\n",
    "    'Subject': ['Math', 'Science', 'Math', 'English']\n",
    "})\n",
    "\n",
    "print(\"Students DataFrame:\")\n",
    "print(df_students)\n",
    "print(\"\\nGrades DataFrame:\")\n",
    "print(df_grades)\n",
    "print(\"\\n\" + \"=\"*60)\n",
    "\n",
    "# 1) INNER JOIN - Only matching keys (101, 102)\n",
    "inner_result = pd.merge(df_students, df_grades, on='StudentID', how='inner')\n",
    "print(\"INNER JOIN (only StudentID 101, 102):\")\n",
    "print(inner_result)\n",
    "print(\"\\n\" + \"=\"*60)\n",
    "\n",
    "# 2) OUTER JOIN - All keys from both (101, 102, 103, 104, 105, 106)\n",
    "outer_result = pd.merge(df_students, df_grades, on='StudentID', how='outer')\n",
    "print(\"OUTER JOIN (all StudentIDs, NaN for missing):\")\n",
    "print(outer_result)\n",
    "print(\"\\n\" + \"=\"*60)\n",
    "\n",
    "# 3) LEFT JOIN - All from left (students: 101, 102, 103, 104)\n",
    "left_result = pd.merge(df_students, df_grades, on='StudentID', how='left')\n",
    "print(\"LEFT JOIN (all students, NaN for students without grades):\")\n",
    "print(left_result)\n",
    "print(\"\\n\" + \"=\"*60)\n",
    "\n",
    "# 4) RIGHT JOIN - All from right (grades: 101, 102, 105, 106)\n",
    "right_result = pd.merge(df_students, df_grades, on='StudentID', how='right')\n",
    "print(\"RIGHT JOIN (all grades, NaN for grades without student info):\")\n",
    "print(right_result)\n",
    "print(\"\\n\" + \"=\"*60)"
   ]
  },
  {
   "cell_type": "markdown",
   "id": "da54dbed",
   "metadata": {},
   "source": [
    "### Summary of Results:\n",
    "\n",
    "| Join Type | StudentIDs Included | What Happens |\n",
    "|-----------|-------------------|--------------|\n",
    "| **INNER** | 101, 102 | Only students who have grades |\n",
    "| **OUTER** | 101, 102, 103, 104, 105, 106 | Everyone (students & grades), NaN for missing |\n",
    "| **LEFT** | 101, 102, 103, 104 | All students, NaN if no grade |\n",
    "| **RIGHT** | 101, 102, 105, 106 | All grades, NaN if no student info |\n",
    "\n",
    "### When to Use:\n",
    "- **INNER**: Want only complete records (both tables must have the key)\n",
    "- **OUTER**: Want everything, even if data is incomplete\n",
    "- **LEFT**: Prioritize left DataFrame, add info from right if available\n",
    "- **RIGHT**: Prioritize right DataFrame, add info from left if available"
   ]
  }
 ],
 "metadata": {
  "kernelspec": {
   "display_name": "Python 3",
   "language": "python",
   "name": "python3"
  },
  "language_info": {
   "codemirror_mode": {
    "name": "ipython",
    "version": 3
   },
   "file_extension": ".py",
   "mimetype": "text/x-python",
   "name": "python",
   "nbconvert_exporter": "python",
   "pygments_lexer": "ipython3",
   "version": "3.10.11"
  }
 },
 "nbformat": 4,
 "nbformat_minor": 5
}
