{
 "cells": [
  {
   "cell_type": "markdown",
   "id": "3055da9a",
   "metadata": {},
   "source": [
    "## Read a CSV File\n",
    "\n",
    "1. import pandas as pd\n",
    "2. pd.read_csv(\"file_name\")\n",
    "3. Add header \n",
    "4. "
   ]
  },
  {
   "cell_type": "code",
   "execution_count": 1,
   "id": "e483ef9a",
   "metadata": {},
   "outputs": [
    {
     "name": "stdout",
     "output_type": "stream",
     "text": [
      "     Unnamed: 0             Date  Active Users  Favorites Total Visits  \\\n",
      "0             0   22/2/2022 9:28          1557     330071       50.9M+   \n",
      "1             1   22/2/2022 9:28          3208     137809       30.9M+   \n",
      "2             2   22/2/2022 9:28          2091    2556671      725.7M+   \n",
      "3             3   22/2/2022 9:28          6235     711635      461.2M+   \n",
      "4             4   22/2/2022 9:28          7273     247852       77.2M+   \n",
      "..          ...              ...           ...        ...          ...   \n",
      "96           96  22/2/2022 11:00          1698      82997        5.4M+   \n",
      "97           97  22/2/2022 11:00          2834      94943       10.6M+   \n",
      "98           98  22/2/2022 11:00          2609      98548        4.3M+   \n",
      "99           99  22/2/2022 11:00          7411     133820       32.9M+   \n",
      "100         100  22/2/2022 11:00          2700     551891      141.6M+   \n",
      "\n",
      "     Server Size       Genre  \\\n",
      "0              8    Building   \n",
      "1             12  All Genres   \n",
      "2             20   Adventure   \n",
      "3             12    Fighting   \n",
      "4             15         RPG   \n",
      "..           ...         ...   \n",
      "96            20    Fighting   \n",
      "97            30  All Genres   \n",
      "98            35      Horror   \n",
      "99            22  All Genres   \n",
      "100           15  All Genres   \n",
      "\n",
      "                                                 Title               Creator  \\\n",
      "0          [TIER8]FactorySimulatorByGamingGloveStudios  Gaming Glove Studios   \n",
      "1    [NEWBOSS]AnimeClickersSimulatorBySimpleSimulators     Simple Simulators   \n",
      "2          (Cosmiore☄️)LoomianLegacyByLlamaTrainStudio    Llama Train Studio   \n",
      "3    [CHRISTMAS+GODUSOPP+KIRITO]ABAByDogsStudios:South   Dogs Studios: South   \n",
      "4                              DeepwokenByVowsbytheSea       Vows by the Sea   \n",
      "..                                                 ...                   ...   \n",
      "96                [Update30-II]AllusionsBy@Klevinoroto          @Klevinoroto   \n",
      "97                               AloSanctuaryByAloYoga              Alo Yoga   \n",
      "98                            UsAreToysBy@UmmmOkayWhat         @UmmmOkayWhat   \n",
      "99                                 🕯Encanto🦋By@skygriI              @skygriI   \n",
      "100           🤖[CyberCity]GiantSimulatorByMithrilGames         Mithril Games   \n",
      "\n",
      "         gameID       Category  \n",
      "0    6769764667  Most Engaging  \n",
      "1    3102144307  Most Engaging  \n",
      "2     306964494  Most Engaging  \n",
      "3    1458767429  Most Engaging  \n",
      "4    4111023553  Most Engaging  \n",
      "..          ...            ...  \n",
      "96   5895971007  Up-And-Coming  \n",
      "97   8523408215  Up-And-Coming  \n",
      "98   8668673762  Up-And-Coming  \n",
      "99   8482542269  Up-And-Coming  \n",
      "100  2986677229  Up-And-Coming  \n",
      "\n",
      "[101 rows x 11 columns]\n"
     ]
    }
   ],
   "source": [
    "import pandas as pd\n",
    "\n",
    "k = pd.read_csv('D:\\Data Visuals\\Pandas\\DataFrame\\Diamonds_Prices2022.csv', sep='|')\n",
    "f = pd.read_csv(\"roblox_games_data2.csv\", sep =';')\n",
    "\n",
    "# print(k)\n",
    "print(f)\n",
    "\n"
   ]
  },
  {
   "cell_type": "code",
   "execution_count": 12,
   "id": "84c6d4a8",
   "metadata": {},
   "outputs": [
    {
     "name": "stdout",
     "output_type": "stream",
     "text": [
      "         Date    Open    High     Low   Close  Volume Currency\n",
      "0    3/1/2000  122.25  124.00  116.10  116.50    6640      USD\n",
      "1    4/1/2000  116.25  120.50  115.75  116.25    5492      USD\n",
      "2    5/1/2000  115.00  121.00  115.00  118.60    6165      USD\n",
      "3    6/1/2000  119.00  121.40  116.50  116.85    5094      USD\n",
      "4    7/1/2000  117.25  117.75  113.80  114.15    6855      USD\n",
      "..        ...     ...     ...     ...     ...     ...      ...\n",
      "95  18/5/2000   91.00   93.00   91.00   91.50     211      USD\n",
      "96  19/5/2000   95.30   98.75   94.80   97.95    8338      USD\n",
      "97  22/5/2000   97.50  104.70   97.50  103.30   14769      USD\n",
      "98  23/5/2000  103.00  104.25  101.30  103.70    7216      USD\n",
      "99  24/5/2000  103.25  103.50  100.75  101.85    4667      USD\n",
      "\n",
      "[100 rows x 7 columns]\n"
     ]
    }
   ],
   "source": [
    "import pandas as pd\n",
    "df = pd.read_csv(\"coffee.csv\", sep = \"|\")\n",
    "print(df)"
   ]
  },
  {
   "cell_type": "code",
   "execution_count": null,
   "id": "f398f689",
   "metadata": {},
   "outputs": [],
   "source": []
  }
 ],
 "metadata": {
  "kernelspec": {
   "display_name": "Python 3",
   "language": "python",
   "name": "python3"
  },
  "language_info": {
   "codemirror_mode": {
    "name": "ipython",
    "version": 3
   },
   "file_extension": ".py",
   "mimetype": "text/x-python",
   "name": "python",
   "nbconvert_exporter": "python",
   "pygments_lexer": "ipython3",
   "version": "3.10.11"
  }
 },
 "nbformat": 4,
 "nbformat_minor": 5
}
