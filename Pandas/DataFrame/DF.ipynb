{
 "cells": [
  {
   "cell_type": "markdown",
   "id": "8f30094f",
   "metadata": {},
   "source": [
    "## Start with a simple DataFrame\n",
    "1. DataFrame, columns and rows\n",
    "2. Implement with Dictionary\n",
    "3. Combine arrays\n",
    "4. Using numpy to create DF\n",
    "5. merge(arr?, arr?, on?, how?), concat(arr?,arr?, axis ? or ignore_index = true)\n",
    "6. join, (useful when same index / label)"
   ]
  },
  {
   "cell_type": "code",
   "execution_count": null,
   "id": "c439550a",
   "metadata": {},
   "outputs": [
    {
     "name": "stdout",
     "output_type": "stream",
     "text": [
      "        0\n",
      "0     Abu\n",
      "1     Bob\n",
      "2  Celine\n"
     ]
    }
   ],
   "source": [
    "# i) Import a DataFrame\n",
    "import pandas as pd\n",
    "\n",
    "list_name = ['Abu','Bob','Celine']\n",
    "df = pd.DataFrame(list_name)\n",
    "\n",
    "print(df)"
   ]
  },
  {
   "cell_type": "code",
   "execution_count": 8,
   "id": "26385795",
   "metadata": {},
   "outputs": [
    {
     "name": "stdout",
     "output_type": "stream",
     "text": [
      "     Name  Age    School\n",
      "I    John   18  Chow Lit\n",
      "II  Peach   16   Charter\n"
     ]
    }
   ],
   "source": [
    "# 1) Columns and rows\n",
    "# Basic \n",
    "import pandas as pd\n",
    "info_1= [\"John\",18,\"Chow Lit\"]\n",
    "info_2 =[\"Peach\",16,\"Charter\"]\n",
    "df = pd.DataFrame([info_1, info_2], index =['I', 'II'], columns = [\"Name\",\"Age\",\"School\"]) # index is rows\n",
    "print(df)\n"
   ]
  },
  {
   "cell_type": "code",
   "execution_count": null,
   "id": "cd7fdf3e",
   "metadata": {},
   "outputs": [
    {
     "name": "stdout",
     "output_type": "stream",
     "text": [
      "       States     Capitals  Income (MYR)  Population (M)\n",
      "I       Johor  Johor Bahru          6879            4.10\n",
      "II   Kelantan   Kota Bharu          3614            1.86\n",
      "III    Pahang      Kuantan          4753            1.64\n",
      "IV    Sarawak      Kuching          4978            2.51\n",
      "V       Sabah  K. Kinabalu          4577            3.59\n"
     ]
    }
   ],
   "source": [
    "# 2) Dictionary\n",
    "# Dictionary of lists\n",
    "import pandas as pd\n",
    "# Syntax = {key : [stuff,stuff2]}\n",
    "# Syntax = {key2 :[stuff3,stuff4]}\n",
    "\n",
    "My_states = {'States': ['Johor', 'Kelantan', 'Pahang', 'Sarawak', 'Sabah'], \n",
    "             'Capitals': ['Johor Bahru', 'Kota Bharu', 'Kuantan', 'Kuching', 'K. Kinabalu'],\n",
    "             'Income (MYR)': [6879, 3614, 4753, 4978,4577],\n",
    "             'Population (M)': [4.1, 1.86, 1.64, 2.51, 3.59]}\n",
    "             \n",
    "df = pd.DataFrame(My_states, index = [\"I\",\"II\",\"III\",\"IV\",\"V\"])\n",
    "print(df)"
   ]
  },
  {
   "cell_type": "code",
   "execution_count": null,
   "id": "d5659c92",
   "metadata": {},
   "outputs": [
    {
     "name": "stdout",
     "output_type": "stream",
     "text": [
      "     Brand  Sales  Revenue\n",
      "0  Samsung  321.3    211.2\n",
      "1    Nokia  119.4     34.6\n"
     ]
    }
   ],
   "source": [
    "# 2) Dictionaries v2\n",
    "# Syntax = [{x: stuff}, {y: stuff}]\n",
    "# Syntax = [{x: stuff2}, {y: stuff2}]\n",
    "import pandas as pd\n",
    "# List of dictionaries\n",
    "phone_data = [{\"Brand\" : 'Samsung', \"Sales\" : 321.3, \"Revenue\" : 211.2},\n",
    "              {\"Brand\" : 'Nokia', \"Sales\" : 119.4, \"Revenue\" : 34.6}]\n",
    "\n",
    "df = pd.DataFrame(phone_data)\n",
    "print(df)\n"
   ]
  },
  {
   "cell_type": "code",
   "execution_count": null,
   "id": "2bb14d7d",
   "metadata": {},
   "outputs": [],
   "source": [
    "# Dict, and zip use case\n",
    "# Instead of assigning it, easier to just use this. \n",
    "\n",
    "import numpy as np "
   ]
  }
 ],
 "metadata": {
  "kernelspec": {
   "display_name": "Python 3",
   "language": "python",
   "name": "python3"
  },
  "language_info": {
   "codemirror_mode": {
    "name": "ipython",
    "version": 3
   },
   "file_extension": ".py",
   "mimetype": "text/x-python",
   "name": "python",
   "nbconvert_exporter": "python",
   "pygments_lexer": "ipython3",
   "version": "3.10.11"
  }
 },
 "nbformat": 4,
 "nbformat_minor": 5
}
