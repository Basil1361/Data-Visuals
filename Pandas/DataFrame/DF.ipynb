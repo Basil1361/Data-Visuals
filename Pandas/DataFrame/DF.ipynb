{
 "cells": [
  {
   "cell_type": "markdown",
   "id": "8f30094f",
   "metadata": {},
   "source": [
    "## Start with a simple DataFrame\n",
    "1. "
   ]
  },
  {
   "cell_type": "code",
   "execution_count": 1,
   "id": "c439550a",
   "metadata": {},
   "outputs": [
    {
     "name": "stdout",
     "output_type": "stream",
     "text": [
      "        0\n",
      "0     Abu\n",
      "1     Bob\n",
      "2  Celine\n"
     ]
    }
   ],
   "source": [
    "import pandas as pd\n",
    "\n",
    "list_name = ['Abu','Bob','Celine']\n",
    "df = pd.DataFrame(list_name)\n",
    "\n",
    "print(df)"
   ]
  }
 ],
 "metadata": {
  "kernelspec": {
   "display_name": "Python 3",
   "language": "python",
   "name": "python3"
  },
  "language_info": {
   "codemirror_mode": {
    "name": "ipython",
    "version": 3
   },
   "file_extension": ".py",
   "mimetype": "text/x-python",
   "name": "python",
   "nbconvert_exporter": "python",
   "pygments_lexer": "ipython3",
   "version": "3.10.11"
  }
 },
 "nbformat": 4,
 "nbformat_minor": 5
}
