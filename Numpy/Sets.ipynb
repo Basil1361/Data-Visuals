{
 "cells": [
  {
   "cell_type": "markdown",
   "id": "ed73bac8",
   "metadata": {},
   "source": [
    "# NumPy Array Subsetting\n",
    "\n",
    "## What is Subsetting?\n",
    "Subsetting is selecting specific elements from a NumPy array. It's faster than loops and essential for working with large datasets.\n",
    "\n",
    "## 4 Main Methods\n",
    "\n",
    "| Method | Description | Example |\n",
    "|--------|-------------|---------|\n",
    "| **Indexing** | Get elements by position | `arr[0]` gets first element |\n",
    "| **Boolean Indexing** | Get elements meeting conditions | `arr[arr > 5]` gets values > 5 |\n",
    "| **Slicing** | Get a range of elements | `arr[1:4]` gets elements 1-3 |\n",
    "| **Multiple Indexing** | Get elements at specific positions | `arr[[0,2,4]]` gets 1st, 3rd, 5th |\n",
    "\n",
    "### Why Use Subsetting?\n",
    "- ✅ **Fast**: No need for loops\n",
    "- ✅ **Efficient**: Works with large datasets\n",
    "- ✅ **Flexible**: Multiple ways to select data"
   ]
  },
  {
   "cell_type": "code",
   "execution_count": null,
   "id": "0e11abe8",
   "metadata": {},
   "outputs": [],
   "source": [
    "import numpy as np\n",
    "arr = np.array([1, 2, 3, 4, 5, 6, 7, 8, 9])\n",
    "\n"
   ]
  },
  {
   "cell_type": "markdown",
   "id": "19483c4d",
   "metadata": {},
   "source": [
    "## 2D Array Slicing Explanation\n",
    "\n",
    "Your array looks like this:\n",
    "```\n",
    "[[10, 20, 30],   <- Row 0\n",
    " [40, 50, 60]]   <- Row 1\n",
    "```\n",
    "\n",
    "**`arr[0:1, 0:2]`** means:\n",
    "- **Rows**: From 0 to 1 (exclusive) = Row 0 only\n",
    "- **Columns**: From 0 to 2 (exclusive) = Columns 0,1\n",
    "- **Result**: `[[10, 20]]`\n",
    "\n",
    "**`arr[0:1, 0:3:2]`** means:\n",
    "- **Rows**: From 0 to 1 (exclusive) = Row 0 only  \n",
    "- **Columns**: From 0 to 3 (exclusive) with step 2 = Columns 0,2 (skip column 1)\n",
    "- **Result**: `[[10, 30]]`\n",
    "\n",
    "The **step value** (`:2`) means \"take every 2nd element\" - so it skips column 1 and takes columns 0 and 2."
   ]
  },
  {
   "cell_type": "code",
   "execution_count": 1,
   "id": "af0d47f7",
   "metadata": {},
   "outputs": [
    {
     "name": "stdout",
     "output_type": "stream",
     "text": [
      "[[10 20]]\n",
      "[[10 30]]\n"
     ]
    }
   ],
   "source": [
    "import numpy as np\n",
    "arr = np.array([[10, 20, 30], \n",
    "                [40, 50, 60]])\n",
    "\n",
    "# Slicing with Default Step Value\n",
    "print(arr[0:1, 0:2])\n",
    "\n",
    "# Slicing with Step Value of 2\n",
    "print(arr[0:1, 0:3:2])"
   ]
  },
  {
   "cell_type": "code",
   "execution_count": 9,
   "id": "0be89e61",
   "metadata": {},
   "outputs": [
    {
     "name": "stdout",
     "output_type": "stream",
     "text": [
      "[[[46 10]\n",
      "  [64  1]]]\n"
     ]
    }
   ],
   "source": [
    "# 3D arrays\n",
    "import numpy as np\n",
    "arr = np.array([[[19, 28, 37], \n",
    "                 [91, 82, 73]], \n",
    "                 \n",
    "                [[46, 55, 10],\n",
    "                 [64, 90, 1]]])\n",
    "                 \n",
    "print(arr[1:2,0:2,0:3:2])"
   ]
  },
  {
   "cell_type": "code",
   "execution_count": 2,
   "id": "4d235b2e",
   "metadata": {},
   "outputs": [
    {
     "name": "stdout",
     "output_type": "stream",
     "text": [
      "[3 5 8]\n"
     ]
    }
   ],
   "source": [
    "# Indexing\n",
    "\n",
    "import numpy as np\n",
    "\n",
    "arr = np.array([1,2,3,4,5,6,7,8,9])\n",
    "# when [[]], this [] will consider index only\n",
    "# print(arr[1]) only prints 1 index value\n",
    "print(arr[[2,4,7]])\n",
    "\n",
    "\n"
   ]
  },
  {
   "cell_type": "code",
   "execution_count": 3,
   "id": "5370648b",
   "metadata": {},
   "outputs": [
    {
     "name": "stdout",
     "output_type": "stream",
     "text": [
      "[2, 5, 40]\n"
     ]
    }
   ],
   "source": [
    "import numpy as np\n",
    "\n",
    "arr = np.array([[1, 2, 3, 4, 5],\n",
    "                [10, 20, 30, 40, 50],\n",
    "                [100, 200, 300, 400, 500]])\n",
    "\n",
    "print(arr[[0, 0, 1],[1, 4, 3]].tolist())\n",
    "\n",
    "# arr[[0, 0, 1],[1, 4, 3]] means:\n",
    "# - Rows:    [0, 0, 1]\n",
    "# - Columns: [1, 4, 3]\n",
    "# It picks:\n",
    "#   arr[0,1] -> 2\n",
    "#   arr[0,4] -> 5\n",
    "#   arr[1,3] -> 40\n",
    "\n",
    "# So, the output is: [ 2  5 40 ]"
   ]
  },
  {
   "cell_type": "code",
   "execution_count": 22,
   "id": "bb03a28e",
   "metadata": {},
   "outputs": [
    {
     "name": "stdout",
     "output_type": "stream",
     "text": [
      "[ 2 44 89 78]\n"
     ]
    }
   ],
   "source": [
    "import numpy as np\n",
    "arr = np.array([[[1, 2, 3, 4],\n",
    "                 [10, 20, 30, 40]], \n",
    "                \n",
    "                [[11, 22, 33, 44],\n",
    "                 [100, 200, 300, 400]], \n",
    "                 \n",
    "                [[12, 23, 34, 45],\n",
    "                 [56, 67, 78, 89]]])\n",
    "                 \n",
    "print(arr[[0,1,2,2],[0,0,1,1],[1,3,3,2]])\n",
    "\n",
    "# Explanation\n",
    "# Value picks: arr[0,0,1], arr[1,0,3], arr[2,1,3], and arr [2,1,2]"
   ]
  },
  {
   "cell_type": "markdown",
   "id": "8a4ab25c",
   "metadata": {},
   "source": [
    "## Boolean Indexing Example and Explanation\n",
    "\n",
    "Suppose you have the following array:\n",
    "```\n",
    "array([[[ 1,  2,  3,  4],\n",
    "    [10, 20, 30, 40]],\n",
    "\n",
    "       [[12, 23, 34, 45],\n",
    "    [56, 67, 78, 89]]])\n",
    "```\n",
    "\n",
    "### Understanding the Syntax: `arr[arr <= 60]`\n",
    "\n",
    "**Square Brackets `[ ]`**: Used for **indexing/selecting** elements from the array\n",
    "- `[arr<= 60]` means \"if value really is <= 60, return True\"\n",
    "- `arr[arr<= 60]`means to return the actual value where it's true, not the index\n",
    "- `arr.where[arr<=60]`means to return the index value\n",
    "\n",
    "**Result:**\n",
    "```\n",
    "[ 1  2  3  4 10 20 30 40 12 23 34 45 56]\n",
    "```\n",
    "\n",
    "Boolean indexing is a powerful way to filter data based on conditions!"
   ]
  },
  {
   "cell_type": "code",
   "execution_count": 29,
   "id": "f40e631d",
   "metadata": {},
   "outputs": [
    {
     "name": "stdout",
     "output_type": "stream",
     "text": [
      "[ 1  2  3  4 10 20 30 40 12 23 34 45 56]\n"
     ]
    }
   ],
   "source": [
    "import numpy as np\n",
    "\n",
    "arr = np.array([[[1, 2, 3, 4],\n",
    "                 [10, 20, 30, 40]], \n",
    "                \n",
    "                [[12, 23, 34, 45],\n",
    "                 [56, 67, 78, 89]]])\n",
    "\n",
    "print(arr[arr <= 60])"
   ]
  },
  {
   "cell_type": "code",
   "execution_count": 30,
   "id": "70214884",
   "metadata": {},
   "outputs": [
    {
     "name": "stdout",
     "output_type": "stream",
     "text": [
      "[ 2  4  6  8 10 12 14 16]\n"
     ]
    }
   ],
   "source": [
    "# Divisible by Two. \n",
    "import numpy as np\n",
    "\n",
    "arr = np.array([[[1, 2, 3, 4],\n",
    "                 [5, 6, 7, 8]], \n",
    "                 \n",
    "                [[9, 10, 11, 12],\n",
    "                 [13, 14, 15, 16]]])\n",
    "\n",
    "print(arr[arr%2==0])"
   ]
  },
  {
   "cell_type": "code",
   "execution_count": 2,
   "id": "8797e2f5",
   "metadata": {},
   "outputs": [
    {
     "name": "stdout",
     "output_type": "stream",
     "text": [
      "[[[ 2  4  6  8]\n",
      "  [ 3  6  9 12]]\n",
      "\n",
      " [[ 1  2  3  4]\n",
      "  [ 4  8 12 16]]\n",
      "\n",
      " [[ 5 10 15 20]\n",
      "  [ 6 12 18 24]]]\n"
     ]
    }
   ],
   "source": [
    "# Reshaping arrays\n",
    "import numpy as np\n",
    "\n",
    "arr = np.array([[2,4,6,8,3,6,9,12],[1,2,3,4,4,8,12,16],[5,10,15,20,6,12,18,24]])\n",
    "\n",
    "print(arr.reshape(3,2,4))\n",
    "\n",
    "# 3 means amount of planes, 2 means two rows, 4 means four columns"
   ]
  },
  {
   "cell_type": "code",
   "execution_count": 3,
   "id": "b987943d",
   "metadata": {},
   "outputs": [
    {
     "data": {
      "text/plain": [
       "array([ 40,  70, 100])"
      ]
     },
     "execution_count": 3,
     "metadata": {},
     "output_type": "execute_result"
    }
   ],
   "source": [
    "import numpy as np\n",
    "\n",
    "arr = np.array([[10, 20, 30, 40, 50],\n",
    "                [60, 70, 80, 90, 100]])\n",
    "\n",
    "arrReshaped = arr.reshape((10,))\n",
    "# 10, is to create a 1D dimension \n",
    "arrfilter = arrReshaped[3:10:3]\n",
    "arrfilter"
   ]
  }
 ],
 "metadata": {
  "kernelspec": {
   "display_name": "Python 3",
   "language": "python",
   "name": "python3"
  },
  "language_info": {
   "codemirror_mode": {
    "name": "ipython",
    "version": 3
   },
   "file_extension": ".py",
   "mimetype": "text/x-python",
   "name": "python",
   "nbconvert_exporter": "python",
   "pygments_lexer": "ipython3",
   "version": "3.10.11"
  }
 },
 "nbformat": 4,
 "nbformat_minor": 5
}
