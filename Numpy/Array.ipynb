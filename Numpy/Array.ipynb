{
 "cells": [
  {
   "cell_type": "markdown",
   "id": "f596f842",
   "metadata": {},
   "source": [
    "# NumPy Array Analysis\n",
    "\n",
    "The `array_2d.shape` returns the dimensions, `array_2d.dtype` shows the data type, and `array_2d.size` gives the total number of elements.\n",
    "\n",
    "When we use `np.array([[1,2,3,4,5], [2,4,6,8,10]])`, we create an array with 2 rows and 5 columns.\n",
    "\n",
    "So is \n",
    "2*5 matrix \n",
    "\n",
    "(1,2,3,4,5)\n",
    "(2,4,6,8,10)"
   ]
  },
  {
   "cell_type": "code",
   "execution_count": 10,
   "id": "611912b5",
   "metadata": {},
   "outputs": [
    {
     "name": "stdout",
     "output_type": "stream",
     "text": [
      "42\n",
      "142\n",
      "15\n"
     ]
    }
   ],
   "source": [
    "# 0D dimensioned arrays \n",
    "import numpy as np\n",
    "\n",
    "print(np.array(42))\n",
    "print(np.array(142))\n",
    "print(np.array(15))"
   ]
  },
  {
   "cell_type": "code",
   "execution_count": null,
   "id": "52744154",
   "metadata": {},
   "outputs": [
    {
     "name": "stdout",
     "output_type": "stream",
     "text": [
      "(2, 5)\n",
      "int64\n",
      "10\n"
     ]
    }
   ],
   "source": [
    "# 2D arrays properties\n",
    "import numpy as np\n",
    "\n",
    "array_2d = np.array([[1,2,3,4,5], [2,4,6,8,10]])\n",
    "\n",
    "print(array_2d.shape)\n",
    "print(array_2d.dtype)\n",
    "print(array_2d.size) \n"
   ]
  },
  {
   "cell_type": "code",
   "execution_count": 10,
   "id": "3c37536f",
   "metadata": {},
   "outputs": [
    {
     "name": "stdout",
     "output_type": "stream",
     "text": [
      "16\n"
     ]
    }
   ],
   "source": [
    "import numpy as np\n",
    "arr = np.array([0, 2, 4, 6, 8, 10, 12, 14, 16, 18, 20, 22, 24, 26, 28, 30])\n",
    "print(arr.size)"
   ]
  },
  {
   "cell_type": "code",
   "execution_count": 2,
   "id": "74eab582",
   "metadata": {},
   "outputs": [
    {
     "name": "stdout",
     "output_type": "stream",
     "text": [
      "[0. 0. 0.] [1. 1. 1. 1.]\n"
     ]
    }
   ],
   "source": [
    "import numpy as np \n",
    "# Create array with ones, zeros. \n",
    "\n",
    "arr = np.zeros(3)\n",
    "arr2 = np.ones(4)\n",
    "\n",
    "print(arr,arr2)"
   ]
  },
  {
   "cell_type": "code",
   "execution_count": 15,
   "id": "a83f2523",
   "metadata": {},
   "outputs": [
    {
     "name": "stdout",
     "output_type": "stream",
     "text": [
      "[4.0, 4.5, 5.0, 5.5, 6.0, 6.5, 7.0, 7.5, 8.0, 8.5, 9.0, 9.5]\n",
      "[16, 14, 12, 10, 8, 6, 4, 2, 0, -2, -4]\n"
     ]
    }
   ],
   "source": [
    "import numpy as np \n",
    "# Steps of increment when creating new array list\n",
    "\n",
    "arr = np.arange(start = 4, stop = 10, step = 0.5)\n",
    "arr2 = np.arange(16,-6,-2)\n",
    "print(arr.tolist())\n",
    "print(arr2.tolist())"
   ]
  },
  {
   "cell_type": "code",
   "execution_count": null,
   "id": "b46b8d76",
   "metadata": {},
   "outputs": [
    {
     "data": {
      "text/plain": [
       "[2.0, 2.25, 2.5, 2.75, 3.0]"
      ]
     },
     "execution_count": 21,
     "metadata": {},
     "output_type": "execute_result"
    }
   ],
   "source": [
    "import numpy as np\n",
    "# linespace\n",
    "# arr = np.linspace(start = 2, end = 3, 5 is the number of val in between 2 and 3, where every step is equal\n",
    "# linspace = values between 2, 3, 5 is the steps made\n",
    "# N div\n",
    "\n",
    "arr = np.linspace(2,3,5)\n",
    "arr.tolist()\n"
   ]
  },
  {
   "cell_type": "markdown",
   "id": "fafb2aba",
   "metadata": {},
   "source": [
    "# 3D Matrix\n",
    "\n",
    "`Example: (2,2,3) = (z,x,y)`\n",
    "\n",
    "| Dimension | Name | Description | Our Example |\n",
    "|-----------|------|-------------|-------------|\n",
    "| z | Layers/Depth | Number of \"sheets\" stacked | 2 layers |\n",
    "| x | Rows | Number of horizontal rows per layer | 2 rows |\n",
    "| y | Columns | Number of vertical columns per row | 3 columns |\n",
    "\n",
    "**Layer 0:**\n",
    "```\n",
    "[426,  2, 46]\n",
    "[ 53, 42, 35]\n",
    "```\n",
    "\n",
    "**Layer 1:**\n",
    "```\n",
    "[646,  57, 309]\n",
    "[ 89, 149, 100]\n",
    "```\n",
    "\n",
    "Index rules still apply: 0, 1, 2...\n"
   ]
  },
  {
   "cell_type": "code",
   "execution_count": 4,
   "id": "97bdb954",
   "metadata": {},
   "outputs": [
    {
     "data": {
      "text/plain": [
       "(2, 2, 3)"
      ]
     },
     "execution_count": 4,
     "metadata": {},
     "output_type": "execute_result"
    }
   ],
   "source": [
    "import numpy as np\n",
    "arr = np.array([[[426, 2, 46], \n",
    "  [53, 42, 35]],\n",
    "\n",
    " [[646, 57, 309], \n",
    "  [89, 149, 100]]])\n",
    "\n",
    "arr.shape"
   ]
  },
  {
   "cell_type": "code",
   "execution_count": 8,
   "id": "d12e1dbb",
   "metadata": {},
   "outputs": [
    {
     "name": "stdout",
     "output_type": "stream",
     "text": [
      "Original array: [0 2 3 4 5 6 7 8]\n",
      "New array: [0, 2, 13, 4, 15, 6, 17, 8]\n"
     ]
    }
   ],
   "source": [
    "# Change numbers: \n",
    "import numpy as np\n",
    "arr = np.array([0, 2, 3, 4, 5, 6, 7, 8])\n",
    "\n",
    "# Print original array\n",
    "print(\"Original array:\", arr)\n",
    "\n",
    "# Change value at indexes 2, 4, and 6\n",
    "arr[2] = 13\n",
    "arr[4] = 15\n",
    "arr[6] = 17\n",
    "\n",
    "# Print array with updated values\n",
    "print(\"New array:\", arr.tolist())\n",
    "# .tolist() prevents extra spacing "
   ]
  },
  {
   "cell_type": "markdown",
   "id": "a26c47ba",
   "metadata": {},
   "source": [
    "# Random Number Generation in NumPy\n",
    "\n",
    "NumPy provides several functions to generate random numbers:\n",
    "\n",
    "- **`rand()`**: Generates an array of random numbers from a uniform distribution over `[0, 1]`.  \n",
    "    *Example:* `np.random.rand(3)` → `[0.12, 0.85, 0.44]`\n",
    "\n",
    "- **`randn()`**: Generates an array of random numbers from a standard normal distribution (mean 0, variance 1).  \n",
    "    *Example:* `np.random.randn(3)` → `[0.23, -1.12, 0.77]`\n",
    "\n",
    "- **`randint()`**: Generates random integers from a specified range.  \n",
    "    *Example:* `np.random.randint(1, 10, 3)` → `[3, 7, 1]`\n",
    "\n",
    "- **`choice()`**: Generates a random sample from a given 1-D array.  \n",
    "    *Example:* `np.random.choice([10, 20, 30], 2)` → `[20, 10]`\n",
    "\n",
    "These functions are useful for simulations, initializing arrays, or sampling data."
   ]
  },
  {
   "cell_type": "code",
   "execution_count": 28,
   "id": "d5c1be49",
   "metadata": {},
   "outputs": [
    {
     "name": "stdout",
     "output_type": "stream",
     "text": [
      "1D: [5, 25]\n"
     ]
    }
   ],
   "source": [
    "import  numpy as np\n",
    "\n",
    "arr = np.array([5, 10, 15, 20, 25, 30])\n",
    "\n",
    "randomArr = np.random.choice(arr, size=2)\n",
    "print('1D:', randomArr.tolist())"
   ]
  },
  {
   "cell_type": "markdown",
   "id": "c2a47c53",
   "metadata": {},
   "source": [
    "# NumPy Array Manipulation Functions\n",
    "\n",
    "| Function | Description | Example |\n",
    "|----------|-------------|---------|\n",
    "| `np.append()` | Add elements to the end of an array | `np.append(arr, [7, 8])` |\n",
    "| `np.insert()` | Insert elements at specific positions | `np.insert(arr, 2, 99)` |\n",
    "| `np.delete()` | Remove elements by index | `np.delete(arr, [1, 3])` |\n",
    "\n",
    "**Note:** All operations create new arrays and don't modify the original."
   ]
  },
  {
   "cell_type": "code",
   "execution_count": 14,
   "id": "f27ee99c",
   "metadata": {},
   "outputs": [
    {
     "name": "stdout",
     "output_type": "stream",
     "text": [
      "Original array: [10 20 30 40 50]\n",
      "After deleting index 2: [10 20 40 50]\n",
      "After inserting 60 at index 3: [10 20 30 60 40 50]\n",
      "\n",
      "Original array 1-10: [ 1  2  3  4  5  6  7  8  9 10]\n",
      "After inserting 50 at indices 3 and 5: [1, 2, 3, 50, 4, 5, 50, 6, 7, 8, 9, 10]\n",
      "\n",
      "--- 2D Array Operations ---\n",
      "Original 2D array:\n",
      "[[11 22]\n",
      " [33 44]]\n",
      "\n",
      "After inserting 55 in the row position, with index 1:\n",
      "[[11 22]\n",
      " [55 55]\n",
      " [33 44]]\n",
      "\n",
      "After deleting row at index 1:\n",
      "[[11 22]]\n"
     ]
    }
   ],
   "source": [
    "# Examples of Insert and Delete Operations\n",
    "import numpy as np\n",
    "\n",
    "# Create an initial numpy array\n",
    "my_array = np.array([10, 20, 30, 40, 50])\n",
    "print(\"Original array:\", my_array)\n",
    "\n",
    "# Delete element at index 2\n",
    "new_array = np.delete(my_array, 2)\n",
    "print(\"After deleting index 2:\", new_array)\n",
    "\n",
    "# Insert value 60 at index 3\n",
    "new_array2 = np.insert(my_array, 3, 60)\n",
    "print(\"After inserting 60 at index 3:\", new_array2)\n",
    "\n",
    "# Inserting Values at multiple indices\n",
    "array = np.arange(1, 11)\n",
    "array3 = np.insert(array, [3, 5], 50)\n",
    "print(\"\\nOriginal array 1-10:\", array)\n",
    "print(\"After inserting 50 at indices 3 and 5:\", array3.tolist())\n",
    "\n",
    "# 2D array operations\n",
    "print(\"\\n--- 2D Array Operations ---\")\n",
    "my_array_2d = np.array([[11, 22], [33, 44]])\n",
    "print(\"Original 2D array:\")\n",
    "print(my_array_2d)\n",
    "\n",
    "# Inserting row\n",
    "new_array1 = np.insert(my_array_2d, 1, 55, axis=0)\n",
    "print(\"\\nAfter inserting 55 in the row position, with index 1:\")\n",
    "print(new_array1)\n",
    "\n",
    "# Deleting row\n",
    "del_array = np.delete(my_array_2d, 1, axis=0)\n",
    "print(\"\\nAfter deleting row at index 1:\")\n",
    "print(del_array)"
   ]
  },
  {
   "cell_type": "code",
   "execution_count": 15,
   "id": "ac8a5ea6",
   "metadata": {},
   "outputs": [
    {
     "name": "stdout",
     "output_type": "stream",
     "text": [
      "[[85 90 77 46]\n",
      " [78 85 99 76]]\n"
     ]
    }
   ],
   "source": [
    "import numpy as np \n",
    "scores = np.array([[85, 90, 77, 46],\n",
    "                  [92, 88, 66, 50],\n",
    "                  [78, 85, 99, 76]])\n",
    "\n",
    "new_scores = np.delete(scores,1, axis = 0)\n",
    "print(new_scores)"
   ]
  },
  {
   "cell_type": "markdown",
   "id": "ad70453a",
   "metadata": {},
   "source": [
    "# Append \n",
    "## Adding Value at the last index\n",
    "\n",
    "Difference between append and insert\n",
    "1. `np.insert` to add an array, not just single values. \n",
    "2. `np.append` allows you to put it in a dimension, `np.insert` allows you to set the index\n",
    "3. `np.append` is just the “always add to the end” convenience; insert lets you put a whole block anywhere.\n",
    "4.  `np.append(array,value)`"
   ]
  },
  {
   "cell_type": "code",
   "execution_count": null,
   "id": "e5246c61",
   "metadata": {},
   "outputs": [],
   "source": [
    "import numpy as np\n",
    "\n",
    "T = np.arange(23)\n",
    "V = np.append(T,66)\n",
    "\n",
    "print(V.tolist())"
   ]
  },
  {
   "cell_type": "markdown",
   "id": "c944e84d",
   "metadata": {},
   "source": [
    "## Stack\n",
    "### Stacking Multiple arrays together\n",
    "| Function | Description | Example |\n",
    "|----------|-------------|---------|\n",
    "| `np.stack()` | Combine array into a bigger array | `np.stack((arr1, arr2), axis = 0)` |\n",
    "\n",
    "**Note:** np.split also works in the h,v,d version"
   ]
  },
  {
   "cell_type": "code",
   "execution_count": 1,
   "id": "5bb1a6bd",
   "metadata": {},
   "outputs": [
    {
     "name": "stdout",
     "output_type": "stream",
     "text": [
      "Horizontal stack: \n",
      " [1 2 3 4 5 6]\n",
      "Vertical stack: \n",
      " [[1 2 3]\n",
      " [4 5 6]]\n",
      "Depth stack: \n",
      " [[[1 4]\n",
      "  [2 5]\n",
      "  [3 6]]]\n"
     ]
    }
   ],
   "source": [
    "import numpy as np\n",
    "\n",
    "array1 = np.array([1, 2, 3])\n",
    "array2 = np.array([4, 5, 6])\n",
    "\n",
    "hstack = np.hstack((array1, array2))\n",
    "print(\"Horizontal stack: \\n\", hstack)\n",
    "\n",
    "vstack = np.vstack((array1, array2))\n",
    "print(\"Vertical stack: \\n\", vstack)\n",
    "\n",
    "dstack = np.dstack((array1, array2))\n",
    "print(\"Depth stack: \\n\",dstack)"
   ]
  },
  {
   "cell_type": "markdown",
   "id": "41c1dfeb",
   "metadata": {},
   "source": [
    "## Split\n",
    "### Separating a NumPy array into multiple smaller arrays.\n",
    "\n",
    "| Function | Description | Example |\n",
    "|----------|-------------|---------|\n",
    "| `np.split()` | Split array into equal-sized sub-arrays | `np.split(arr, 3)` |\n",
    "| `np.array_split()` | Split array into sub-arrays (allows unequal sizes) | `np.array_split(arr, 4)` |\n",
    "\n",
    "**Note:** np.split also works in the h, v, d version  \n",
    "Example:  \n",
    "`np.hsplit()` or `np.vsplit()` or `np.dsplit()`\n",
    "| Function | Description |\n",
    "|----------|-------------|\n",
    "| `np.hsplit()` | Split array columnly, imagine slicing a cake vertically|\n",
    "| `np.vsplit()` | Split array rowly, imagine slicing a cake horizontally|\n",
    "| `np.dsplit()` | Split array with depth |\n",
    "\n",
    "**Unequal split example:**  \n",
    "`newArr2 = np.array_split(arr, [2, 5])`  \n",
    "Split at index:  \n",
    "`print('\\nSplit the array at index 2 and 5\\n', newArr2)`  "
   ]
  },
  {
   "cell_type": "code",
   "execution_count": 5,
   "id": "e02c0ae8",
   "metadata": {},
   "outputs": [
    {
     "name": "stdout",
     "output_type": "stream",
     "text": [
      "Horizontal split:\n",
      "[array([[1],\n",
      "       [4],\n",
      "       [7]]), array([[2],\n",
      "       [5],\n",
      "       [8]]), array([[3],\n",
      "       [6],\n",
      "       [9]])]\n",
      "[[2]\n",
      " [5]\n",
      " [8]]\n",
      "Vertical split:\n",
      "[array([[1, 2, 3]]), array([[4, 5, 6]]), array([[7, 8, 9]])]\n",
      "[[4 5 6]]\n",
      "Depth split:\n",
      "[array([[[ 1],\n",
      "        [ 4]],\n",
      "\n",
      "       [[ 7],\n",
      "        [10]],\n",
      "\n",
      "       [[13],\n",
      "        [16]]]), array([[[ 2],\n",
      "        [ 5]],\n",
      "\n",
      "       [[ 8],\n",
      "        [11]],\n",
      "\n",
      "       [[14],\n",
      "        [17]]]), array([[[ 3],\n",
      "        [ 6]],\n",
      "\n",
      "       [[ 9],\n",
      "        [12]],\n",
      "\n",
      "       [[15],\n",
      "        [18]]])]\n",
      "[[[ 2]\n",
      "  [ 5]]\n",
      "\n",
      " [[ 8]\n",
      "  [11]]\n",
      "\n",
      " [[14]\n",
      "  [17]]]\n"
     ]
    }
   ],
   "source": [
    "import numpy as np\n",
    "\n",
    "array1 = np.array([[1, 2, 3], \n",
    "                  [4, 5, 6], \n",
    "                  [7, 8, 9]])\n",
    "                  \n",
    "array2 = np.array([[[1, 2, 3],\n",
    "                    [4, 5, 6]],\n",
    "                   [[7, 8, 9],\n",
    "                    [10, 11, 12]],\n",
    "                   [[13, 14, 15],\n",
    "                    [16, 17, 18]]])                \n",
    "\n",
    "hsplit = np.hsplit(array1, 3)\n",
    "print(\"Horizontal split:\")\n",
    "print(hsplit)\n",
    "print(hsplit[1])\n",
    "\n",
    "vsplit = np.vsplit(array1, 3)\n",
    "print(\"Vertical split:\")\n",
    "print(vsplit)\n",
    "print(vsplit[1])\n",
    "\n",
    "dsplit = np.dsplit(array2, 3)\n",
    "print(\"Depth split:\")\n",
    "print(dsplit)\n",
    "print(dsplit[1])"
   ]
  }
 ],
 "metadata": {
  "kernelspec": {
   "display_name": "Python 3",
   "language": "python",
   "name": "python3"
  },
  "language_info": {
   "codemirror_mode": {
    "name": "ipython",
    "version": 3
   },
   "file_extension": ".py",
   "mimetype": "text/x-python",
   "name": "python",
   "nbconvert_exporter": "python",
   "pygments_lexer": "ipython3",
   "version": "3.10.11"
  }
 },
 "nbformat": 4,
 "nbformat_minor": 5
}
