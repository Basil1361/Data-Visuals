{
 "cells": [
  {
   "cell_type": "markdown",
   "id": "ba10b12e",
   "metadata": {},
   "source": [
    "# Things to Add\n",
    "1. Operations +-*/\n",
    "2. Broadcasting operations\n",
    "3. Scalar Operations\n",
    "4. math function, np.sin, np.log, np.exp, np.sqrt. https://numpy.org/doc/stable/reference/routines.math.html\n",
    "5. np.where is like if statement, eg: np.where(cond, 'then', 'else'), [] prints out values"
   ]
  },
  {
   "cell_type": "code",
   "execution_count": 6,
   "id": "89d64efb",
   "metadata": {},
   "outputs": [
    {
     "name": "stdout",
     "output_type": "stream",
     "text": [
      "[[ 2  4]\n",
      " [ 7 10]]\n",
      "[[ 1  4]\n",
      " [12 24]]\n"
     ]
    }
   ],
   "source": [
    "# 1. Operations\n",
    "# Example:\n",
    "import numpy as np \n",
    "\n",
    "arr = np.array([[1,2],[3,4]])\n",
    "arr2 = np.array([[1,2],[4,6]])\n",
    "arr3 = arr+arr2\n",
    "\n",
    "arr4 = arr*arr2\n",
    "\n",
    "print(arr3)\n",
    "print(arr4)"
   ]
  },
  {
   "cell_type": "code",
   "execution_count": null,
   "id": "72b3daa6",
   "metadata": {},
   "outputs": [
    {
     "name": "stdout",
     "output_type": "stream",
     "text": [
      "[[2 4]\n",
      " [4 6]]\n"
     ]
    }
   ],
   "source": [
    "# 2. Broadcasting data: \n",
    "# One arr must be subset of the other\n",
    "# Cannot calculate if different shape, size\n",
    "import numpy as np \n",
    "\n",
    "arr = np.array([[1,2],[3,4]])\n",
    "arr2 = np.array([1,2])\n",
    "arr3 = arr+arr2\n",
    "arr4 = arr*arr2\n",
    "\n",
    "print(arr3)"
   ]
  },
  {
   "cell_type": "code",
   "execution_count": 11,
   "id": "8653aaf6",
   "metadata": {},
   "outputs": [
    {
     "name": "stdout",
     "output_type": "stream",
     "text": [
      "[[ 3  6]\n",
      " [ 9 12]]\n"
     ]
    }
   ],
   "source": [
    "# 3. Scalar Operations\n",
    "import numpy as np \n",
    "\n",
    "arr = np.array([[1,2],[3,4]])\n",
    "\n",
    "print(3*arr)"
   ]
  },
  {
   "cell_type": "code",
   "execution_count": 19,
   "id": "d92eb956",
   "metadata": {},
   "outputs": [
    {
     "name": "stdout",
     "output_type": "stream",
     "text": [
      "0.49999999999999994\n"
     ]
    }
   ],
   "source": [
    "# 4. math function, np.sin, np.log, np.exp, np.sqrt\n",
    "\n",
    "import numpy as np \n",
    "arr = np.radians(30)\n",
    "was = np.sin(arr)\n",
    "print(was)"
   ]
  },
  {
   "cell_type": "code",
   "execution_count": 26,
   "id": "103a47c5",
   "metadata": {},
   "outputs": [
    {
     "name": "stdout",
     "output_type": "stream",
     "text": [
      "[1.0, 2.0, 3.0, 4.0, 5.0, 0.8]\n"
     ]
    }
   ],
   "source": [
    "arr = np.array([1,2,3,4,5,-1,0.5,0.8])\n",
    "\n",
    "statement = arr[np.where(arr > 0.5)]\n",
    "print(statement.tolist())\n"
   ]
  }
 ],
 "metadata": {
  "kernelspec": {
   "display_name": "Python 3",
   "language": "python",
   "name": "python3"
  },
  "language_info": {
   "codemirror_mode": {
    "name": "ipython",
    "version": 3
   },
   "file_extension": ".py",
   "mimetype": "text/x-python",
   "name": "python",
   "nbconvert_exporter": "python",
   "pygments_lexer": "ipython3",
   "version": "3.10.11"
  }
 },
 "nbformat": 4,
 "nbformat_minor": 5
}
