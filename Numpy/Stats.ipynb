{
 "cells": [
  {
   "cell_type": "markdown",
   "id": "ebe564b9",
   "metadata": {},
   "source": [
    "# NumPy Statistical Functions Guide\n",
    "\n",
    "## 📊 Core Statistical Operations\n",
    "\n",
    "### 1. **Max & Min Functions**\n",
    "   - **Overall**: Find maximum/minimum across entire array\n",
    "   - **Vertical (axis=0)**: Find max/min down each column\n",
    "   - **Horizontal (axis=1)**: Find max/min across each row\n",
    "\n",
    "### 2. **Element-wise Maximum & Minimum**\n",
    "   - Returns a **new array** by comparing two arrays element-by-element\n",
    "   - Uses broadcasting for different shaped arrays\n",
    "\n",
    "### 3. **Argument Max & Min (argmax, argmin)**\n",
    "   - Returns the **index position** of maximum/minimum values\n",
    "   - Works with axis parameter for multi-dimensional arrays\n",
    "\n",
    "### 4. **Peak-to-Peak (ptp)**\n",
    "   - Calculates the **difference** between maximum and minimum values\n",
    "   - Represents the range or spread of data\n",
    "\n",
    "## 📈 Central Tendency & Distribution\n",
    "\n",
    "### 5. **Percentile**\n",
    "   - Find values at specific percentage positions (0-100%)\n",
    "   - Useful for understanding data distribution\n",
    "\n",
    "### 6. **Median**\n",
    "   - The middle value when data is sorted\n",
    "   - 50th percentile of the dataset\n",
    "\n",
    "### 7. **Average (Mean)**\n",
    "   - Arithmetic mean of all values\n",
    "   - Sum of all values divided by count\n",
    "\n",
    "### 8. **Variance & Standard Deviation**\n",
    "   - **Variance (var)**: Measure of data spread from the mean\n",
    "   - **Standard Deviation (std)**: Square root of variance\n",
    "\n",
    "### 9. **Mode**\n",
    "   - Most frequently occurring value in dataset\n",
    "   - Requires: `from scipy import stats`\n",
    "\n",
    "## 🔧 Array Operations\n",
    "\n",
    "### 10. **Axis Understanding**\n",
    "   - **Row operations**: `axis=1` (horizontal →)\n",
    "   - **Column operations**: `axis=0` (vertical ↓)\n",
    "\n",
    "### 11. **Flatten**\n",
    "   - Convert multi-dimensional array to 1D\n",
    "   - Useful for overall statistics across entire dataset"
   ]
  },
  {
   "cell_type": "markdown",
   "id": "fe8cc31a",
   "metadata": {},
   "source": [
    "## Tip: Understanding the `Max-Min axis` Parameter\n",
    "\n",
    "When using functions like `np.max()` or `np.min()` with the `axis` parameter:\n",
    "\n",
    "- **No axis**: Operates on the **entire array** (all elements)\n",
    "- **`axis=0`**: Operates **vertically** (↓ down the columns) - collapses rows\n",
    "- **`axis=1`**: Operates **horizontally** (→ across the rows) - collapses columns\n",
    "\n",
    "### Visual Guide:\n",
    "```\n",
    "axis= 0\n",
    "            [2,  5,  1,  7]\n",
    "            [3,  0,  6,  9]\n",
    "            [4, 12,  5,  8]\n",
    "             ↓   ↓   ↓   ↓\n",
    "    Result: [4, 12, 6, 9]  (max of each column)\n",
    "\n",
    "axis=1 (→)\n",
    "    [2,  5,  1,  7] → Result: 1 (min of row)\n",
    "    [3,  0,  6,  9] → Result: 0 (min of row)\n",
    "    [4, 12,  5,  8] → Result: 4 (min of row)\n",
    "```\n",
    "\n",
    "**Remember**: The axis you specify is the one that gets **collapsed** or **reduced**."
   ]
  },
  {
   "cell_type": "code",
   "execution_count": 30,
   "id": "d0018842",
   "metadata": {},
   "outputs": [
    {
     "name": "stdout",
     "output_type": "stream",
     "text": [
      "12\n",
      "[4, 12, 6, 9]\n",
      "[1, 0, 4]\n"
     ]
    }
   ],
   "source": [
    "# 1. Max, Min function\n",
    "import numpy as np\n",
    "\n",
    "arr = np.array([[2, 5, 1, 7], \n",
    "               [3, 0, 6, 9],\n",
    "               [4, 12, 5, 8]])\n",
    "\n",
    "print(np.max(arr))               \n",
    "print(np.max(arr, axis = 0).tolist())\n",
    "print(np.min(arr, axis = 1).tolist())"
   ]
  },
  {
   "cell_type": "code",
   "execution_count": null,
   "id": "26cc0f6a",
   "metadata": {},
   "outputs": [
    {
     "name": "stdout",
     "output_type": "stream",
     "text": [
      "[[ 5  4  5  6  7]\n",
      " [ 6  7  8  9 10]]\n"
     ]
    }
   ],
   "source": [
    "# 2. Maximum and Minimum Function\n",
    "# Returns new array\n",
    "import numpy as np \n",
    "\n",
    "arr = np.array([[1,2,3,4,5],[6,7,8,9,10]])\n",
    "arr2 = np.array([5,4,5,6,7])\n",
    "max_result = np.maximum(arr, arr2)                     # Broadcasting works here\n",
    "print(max_result)\n",
    "\n",
    "arr = np.array([[1,2,3,4,5],[6,7,8,9,10]])\n",
    "arr3 = arr.flatten()[:5]                              # Take first 5: [1,2,3,4,5]\n",
    "arr2 = np.array([5,4,5,6,7])                          # 5 elements\n",
    "max_result = np.maximum(arr3, arr2)\n",
    "print(max_result)    \n"
   ]
  },
  {
   "cell_type": "code",
   "execution_count": 17,
   "id": "8ec8ee73",
   "metadata": {},
   "outputs": [
    {
     "name": "stdout",
     "output_type": "stream",
     "text": [
      "[3, 13, 1, 12, 3, 14, 5, 1, 10] \n",
      "The max value's index is 5\n",
      "[3, 13, 1, 12, 3, 14, 5, 1, 10] \n",
      "The max value's index is 2\n"
     ]
    }
   ],
   "source": [
    "# 3.argmax, argmin \n",
    "import numpy as np \n",
    "arr3 = np.random.randint(1,15,9)\n",
    "comparemax = np.argmax(arr3)\n",
    "comparemin = np.argmin(arr3)\n",
    "print(arr3.tolist(), \"\\nThe max value's index is\", f\"{comparemax}\")\n",
    "print(arr3.tolist(), \"\\nThe max value's index is\", f\"{comparemin}\")"
   ]
  },
  {
   "cell_type": "code",
   "execution_count": null,
   "id": "286b83d7",
   "metadata": {},
   "outputs": [
    {
     "name": "stdout",
     "output_type": "stream",
     "text": [
      "10\n"
     ]
    }
   ],
   "source": [
    "# 4. ptp (range)\n",
    "import numpy as np\n",
    "\n",
    "arr = np.random.choice([10,50,60,70,80,90],2)\n",
    "print(np.ptp(arr))"
   ]
  },
  {
   "cell_type": "code",
   "execution_count": 28,
   "id": "8a4d56f4",
   "metadata": {},
   "outputs": [
    {
     "name": "stdout",
     "output_type": "stream",
     "text": [
      "25.5 34.5 545.05 206.25 222.71113016641087\n"
     ]
    }
   ],
   "source": [
    "# 5. Percentile, median, average, var, std\n",
    "import numpy as np \n",
    "\n",
    "arr = np.arange(3,50,5)\n",
    "arr2 = np.random.randint(70,1000,20)\n",
    "\n",
    "calMed = np.median(arr)\n",
    "calPer = np.percentile(arr,70) # range 0 - 100 percentile\n",
    "calAvg = np.average(arr2)\n",
    "calVar = np.var(arr)\n",
    "calStd = np.std(arr2)\n",
    "\n",
    "print(calMed, calPer,calAvg,calVar, calStd)"
   ]
  },
  {
   "cell_type": "markdown",
   "id": "b7307d11",
   "metadata": {},
   "source": [
    "## Understanding `scipy.stats.mode()` - Finding the Most Frequent Value\n",
    "\n",
    "**Mode** is the value that appears most frequently in a dataset.\n",
    "\n",
    "### How SciPy Calculates Mode:\n",
    "\n",
    "NumPy doesn't have a built-in `mode()` function, so we use **`scipy.stats.mode()`** instead.\n",
    "\n",
    "The function returns:\n",
    "1. **`mode`**: The most frequent value(s)\n",
    "2. **`count`**: How many times that value appears\n",
    "\n",
    "### Key Points:\n",
    "- Works with the **`axis`** parameter (just like `max`, `min`, etc.)\n",
    "- **`axis=None`**: Finds mode across entire flattened array\n",
    "- **`axis=0`**: Finds mode down each column (vertically ↓)\n",
    "- **`axis=1`**: Finds mode across each row (horizontally →)\n",
    "- If multiple values have the same highest frequency, it returns the **smallest** value\n",
    "- **New in SciPy 1.9+**: Returns a `ModeResult` object with `.mode` and `.count` attributes"
   ]
  },
  {
   "cell_type": "code",
   "execution_count": 29,
   "id": "208bdb68",
   "metadata": {},
   "outputs": [
    {
     "name": "stdout",
     "output_type": "stream",
     "text": [
      "Array 1: [1 2 2 3 3 3 4 4]\n",
      "Mode: 3\n",
      "Count: 3\n",
      "\n",
      "Array 2:\n",
      "[[1 2 2 3]\n",
      " [2 3 3 1]\n",
      " [2 1 3 3]]\n",
      "\n",
      "Mode (entire array): 3\n",
      "Count: 5\n",
      "\n",
      "Mode (axis=0, down columns): [2 1 3 3]\n",
      "Count: [2 1 2 2]\n",
      "\n",
      "Mode (axis=1, across rows): [2 3 3]\n",
      "Count: [2 2 2]\n"
     ]
    }
   ],
   "source": [
    "from scipy import stats\n",
    "import numpy as np\n",
    "\n",
    "# Example 1: Simple array with clear mode\n",
    "arr1 = np.array([1, 2, 2, 3, 3, 3, 4, 4])\n",
    "result1 = stats.mode(arr1)\n",
    "print(\"Array 1:\", arr1)\n",
    "print(\"Mode:\", result1.mode)\n",
    "print(\"Count:\", result1.count)\n",
    "print()\n",
    "\n",
    "# Example 2: 2D array\n",
    "arr2 = np.array([[1, 2, 2, 3],\n",
    "                 [2, 3, 3, 1],\n",
    "                 [2, 1, 3, 3]])\n",
    "\n",
    "print(\"Array 2:\")\n",
    "print(arr2)\n",
    "print()\n",
    "\n",
    "# Mode across entire array (axis=None)\n",
    "result_all = stats.mode(arr2, axis=None)\n",
    "print(\"Mode (entire array):\", result_all.mode)\n",
    "print(\"Count:\", result_all.count)\n",
    "print()\n",
    "\n",
    "# Mode down each column (axis=0)\n",
    "result_col = stats.mode(arr2, axis=0)\n",
    "print(\"Mode (axis=0, down columns):\", result_col.mode)\n",
    "print(\"Count:\", result_col.count)\n",
    "print()\n",
    "\n",
    "# Mode across each row (axis=1)\n",
    "result_row = stats.mode(arr2, axis=1)\n",
    "print(\"Mode (axis=1, across rows):\", result_row.mode)\n",
    "print(\"Count:\", result_row.count)"
   ]
  },
  {
   "cell_type": "markdown",
   "id": "9c3e30c7",
   "metadata": {},
   "source": [
    "### Visual Breakdown of Mode Calculation:\n",
    "\n",
    "For the array:\n",
    "```\n",
    "        Col 0  Col 1  Col 2  Col 3\n",
    "Row 0:    1      2      2      3\n",
    "Row 1:    2      3      3      1\n",
    "Row 2:    2      1      3      3\n",
    "```\n",
    "\n",
    "**axis=0 (↓ down columns)**:\n",
    "- Column 0: [1, 2, 2] → mode is **2** (appears 2 times)\n",
    "- Column 1: [2, 3, 1] → mode is **1** (all appear once, returns smallest)\n",
    "- Column 2: [2, 3, 3] → mode is **3** (appears 2 times)\n",
    "- Column 3: [3, 1, 3] → mode is **3** (appears 2 times)\n",
    "\n",
    "**axis=1 (→ across rows)**:\n",
    "- Row 0: [1, 2, 2, 3] → mode is **2** (appears 2 times)\n",
    "- Row 1: [2, 3, 3, 1] → mode is **3** (appears 2 times)\n",
    "- Row 2: [2, 1, 3, 3] → mode is **3** (appears 2 times)\n",
    "\n",
    "**Entire array (axis=None)**:\n",
    "- All values: [1, 1, 1, 2, 2, 2, 2, 3, 3, 3, 3, 3]\n",
    "- Mode is **3** (appears 5 times)"
   ]
  },
  {
   "cell_type": "markdown",
   "id": "c369362f",
   "metadata": {},
   "source": [
    "## Mode - Example Code"
   ]
  },
  {
   "cell_type": "code",
   "execution_count": 4,
   "id": "06d731fd",
   "metadata": {},
   "outputs": [
    {
     "name": "stdout",
     "output_type": "stream",
     "text": [
      "ModeResult(mode=array([10, 60, 10], dtype=int64), count=array([2, 2, 1], dtype=int64))\n"
     ]
    }
   ],
   "source": [
    "import numpy as np\n",
    "from scipy import stats\n",
    "\n",
    "myArray = np.array([[10, 20, 20],\n",
    "                    [50, 60, 70 ],\n",
    "                    [10, 60, 10]])\n",
    "\n",
    "print(stats.mode(myArray))"
   ]
  },
  {
   "cell_type": "markdown",
   "id": "12cd92f7",
   "metadata": {},
   "source": [
    "## Important: Default Behavior of `stats.mode()`\n",
    "\n",
    "When **no axis** is specified, `stats.mode()` **flattens the array** (axis=None), not axis=0!"
   ]
  }
 ],
 "metadata": {
  "kernelspec": {
   "display_name": "Python 3",
   "language": "python",
   "name": "python3"
  },
  "language_info": {
   "codemirror_mode": {
    "name": "ipython",
    "version": 3
   },
   "file_extension": ".py",
   "mimetype": "text/x-python",
   "name": "python",
   "nbconvert_exporter": "python",
   "pygments_lexer": "ipython3",
   "version": "3.10.11"
  }
 },
 "nbformat": 4,
 "nbformat_minor": 5
}
